{
 "cells": [
  {
   "cell_type": "markdown",
   "metadata": {},
   "source": [
    "Load Admission List\n",
    "Add timestamp\n",
    "\n",
    "Each feature type"
   ]
  },
  {
   "cell_type": "markdown",
   "metadata": {},
   "source": [
    "## Setup"
   ]
  },
  {
   "cell_type": "code",
   "execution_count": 1,
   "metadata": {},
   "outputs": [
    {
     "data": {
      "text/plain": [
       "Waiting for a Spark session to start..."
      ]
     },
     "metadata": {},
     "output_type": "display_data"
    }
   ],
   "source": [
    "import pandas as pd\n",
    "import numpy as np\n",
    "import re\n",
    "\n",
    "from pyspark.sql.functions import *\n",
    "from pyspark.sql.types import *\n",
    "\n",
    "HOURS_AFTER_ADM = 24"
   ]
  },
  {
   "cell_type": "markdown",
   "metadata": {},
   "source": [
    "## Admission list"
   ]
  },
  {
   "cell_type": "code",
   "execution_count": 2,
   "metadata": {},
   "outputs": [
    {
     "name": "stdout",
     "output_type": "stream",
     "text": [
      "/tmp/kernel-PySpark-d2ba6995-ec4d-4c88-9acb-d4b808985a89/pyspark_runner.py:2: FutureWarning: currently extract(expand=None) means expand=False (return Index/Series/DataFrame) but in a future version of pandas this will be changed to expand=True (return DataFrame)\n",
      "  # Licensed to the Apache Software Foundation (ASF) under one or more\n"
     ]
    }
   ],
   "source": [
    "# Load list of admissions\n",
    "sample = pd.read_csv(\"sepsis_and_not_sepsis_admissions.csv\")\n",
    "sample['HADM_ID'] = sample['HADM_ID'].str.extract('([0-9]+)')\n",
    "sample_admissions = np.array(sample['HADM_ID']).tolist()\n",
    "\n",
    "admissions = spark.read.csv(\"s3://mimic-raw/mimic3/admissions/ADMISSIONS.csv\", header=True, inferSchema=True)\n",
    "\n",
    "# Add timestamp\n",
    "admissions = admissions.\\\n",
    "    withColumn(\"ADMITTIME_UNIX\", unix_timestamp(\"ADMITTIME\")).\\\n",
    "    withColumn(\"ADMITTIME_PLUS_24H\", unix_timestamp(\"ADMITTIME\")+HOURS_AFTER_ADM*60*60)"
   ]
  },
  {
   "cell_type": "markdown",
   "metadata": {},
   "source": [
    "## Feature Dataframe"
   ]
  },
  {
   "cell_type": "code",
   "execution_count": 21,
   "metadata": {},
   "outputs": [],
   "source": [
    "features = admissions.select(\"HADM_ID\", \"ADMITTIME_PLUS_24H\").where(col(\"HADM_ID\").isin(sample_admissions))"
   ]
  },
  {
   "cell_type": "code",
   "execution_count": 22,
   "metadata": {},
   "outputs": [
    {
     "name": "stdout",
     "output_type": "stream",
     "text": [
      "(50605, 2)\n"
     ]
    },
    {
     "data": {
      "text/plain": [
       "StructType(List(StructField(HADM_ID,IntegerType,true),StructField(ADMITTIME_PLUS_24H,LongType,true)))"
      ]
     },
     "execution_count": 22,
     "metadata": {},
     "output_type": "execute_result"
    }
   ],
   "source": [
    "print((features.count(), len(features.columns)))\n",
    "features.schema"
   ]
  },
  {
   "cell_type": "markdown",
   "metadata": {},
   "source": [
    "## Medication Features"
   ]
  },
  {
   "cell_type": "code",
   "execution_count": 6,
   "metadata": {},
   "outputs": [],
   "source": [
    "N_MED_FEATURES = 100\n",
    "\n",
    "meds = spark.read.csv(\"s3://mimic-raw/mimic3/prescriptions/PRESCRIPTIONS.csv\", header=True, inferSchema=True)\n",
    "\n",
    "# Filter to appropriate admissions\n",
    "meds = meds.where(col(\"HADM_ID\").isin(sample_admissions))\n",
    "\n",
    "# Filter to first 24 hours\n",
    "meds = meds.join(admissions.select(\"HADM_ID\", \"ADMITTIME_UNIX\", \"ADMITTIME_PLUS_24H\"), on=\"HADM_ID\").\\\n",
    "    withColumn(\"UNIX_STARTDATE\", unix_timestamp(meds.STARTDATE))\n",
    "meds = meds.where((meds.UNIX_STARTDATE >= meds.ADMITTIME_UNIX) & (meds.UNIX_STARTDATE <= meds.ADMITTIME_PLUS_24H))\n",
    "\n",
    "# List of N most common meds\n",
    "common_meds = meds.groupby(\"DRUG\").count().orderBy(desc(\"count\")).limit(N_MED_FEATURES)\n",
    "common_meds_list = [drug[\"DRUG\"] for drug in common_meds.collect()]\n",
    "\n",
    "# Filter to most common meds\n",
    "med_counts = meds.select(\"HADM_ID\", \"DRUG\").groupBy(\"HADM_ID\", \"DRUG\").count()\n",
    "med_counts_filtered = med_counts.where(col(\"DRUG\").isin(common_meds_list))\n",
    "\n",
    "# pivot so that each medication is a column\n",
    "# Results in N x M matrix where N is the number of admssions, and M is the number of med features\n",
    "med_features = med_counts_filtered.groupBy(\"HADM_ID\").pivot(\"DRUG\").sum(\"count\")"
   ]
  },
  {
   "cell_type": "code",
   "execution_count": 8,
   "metadata": {},
   "outputs": [],
   "source": [
    "# Save to HDFS\n",
    "med_features.write.csv(\"med_features.csv\", header=True, mode=\"overwrite\")"
   ]
  },
  {
   "cell_type": "code",
   "execution_count": 23,
   "metadata": {},
   "outputs": [],
   "source": [
    "# Read from HDFS\n",
    "med_features = spark.read.csv(\"med_features.csv\", inferSchema=True, header=True)"
   ]
  },
  {
   "cell_type": "code",
   "execution_count": 24,
   "metadata": {},
   "outputs": [],
   "source": [
    "# Join with features dataframe\n",
    "features = features.join(med_features, on=\"HADM_ID\", how=\"left\")"
   ]
  },
  {
   "cell_type": "code",
   "execution_count": 25,
   "metadata": {
    "scrolled": true
   },
   "outputs": [
    {
     "name": "stdout",
     "output_type": "stream",
     "text": [
      "(50605, 102)\n",
      "root\n",
      " |-- HADM_ID: integer (nullable = true)\n",
      " |-- ADMITTIME_PLUS_24H: long (nullable = true)\n",
      " |-- 0.9% Sodium Chloride: integer (nullable = true)\n",
      " |-- 0.9% Sodium Chloride (Mini Bag Plus): integer (nullable = true)\n",
      " |-- 1/2 NS: integer (nullable = true)\n",
      " |-- 5% Dextrose: integer (nullable = true)\n",
      " |-- Acetaminophen: integer (nullable = true)\n",
      " |-- Albuterol 0.083% Neb Soln: integer (nullable = true)\n",
      " |-- Amiodarone: integer (nullable = true)\n",
      " |-- Aspirin: integer (nullable = true)\n",
      " |-- Aspirin EC: integer (nullable = true)\n",
      " |-- Atorvastatin: integer (nullable = true)\n",
      " |-- Bag: integer (nullable = true)\n",
      " |-- Bisacodyl: integer (nullable = true)\n",
      " |-- Calcium Gluconate: integer (nullable = true)\n",
      " |-- Captopril: integer (nullable = true)\n",
      " |-- CefazoLIN: integer (nullable = true)\n",
      " |-- CefePIME: integer (nullable = true)\n",
      " |-- Chlorhexidine Gluconate 0.12% Oral Rinse: integer (nullable = true)\n",
      " |-- D10W: integer (nullable = true)\n",
      " |-- D5 1/2NS: integer (nullable = true)\n",
      " |-- D5W: integer (nullable = true)\n",
      " |-- Dexamethasone: integer (nullable = true)\n",
      " |-- Dextrose 5%: integer (nullable = true)\n",
      " |-- Dextrose 50%: integer (nullable = true)\n",
      " |-- Diazepam: integer (nullable = true)\n",
      " |-- Diltiazem: integer (nullable = true)\n",
      " |-- DiphenhydrAMINE: integer (nullable = true)\n",
      " |-- Docusate Sodium: integer (nullable = true)\n",
      " |-- Docusate Sodium (Liquid): integer (nullable = true)\n",
      " |-- Famotidine: integer (nullable = true)\n",
      " |-- Fentanyl Citrate: integer (nullable = true)\n",
      " |-- FoLIC Acid: integer (nullable = true)\n",
      " |-- Furosemide: integer (nullable = true)\n",
      " |-- Glucagon: integer (nullable = true)\n",
      " |-- Glycopyrrolate: integer (nullable = true)\n",
      " |-- HYDROmorphone (Dilaudid): integer (nullable = true)\n",
      " |-- Haloperidol: integer (nullable = true)\n",
      " |-- Heparin: integer (nullable = true)\n",
      " |-- Heparin Sodium: integer (nullable = true)\n",
      " |-- HydrALAzine: integer (nullable = true)\n",
      " |-- Hydromorphone: integer (nullable = true)\n",
      " |-- Influenza Virus Vaccine: integer (nullable = true)\n",
      " |-- Insulin: integer (nullable = true)\n",
      " |-- Insulin Human Regular: integer (nullable = true)\n",
      " |-- Ipratropium Bromide Neb: integer (nullable = true)\n",
      " |-- Iso-Osmotic Dextrose: integer (nullable = true)\n",
      " |-- Iso-Osmotic Sodium Chloride: integer (nullable = true)\n",
      " |-- Ketorolac: integer (nullable = true)\n",
      " |-- LR: integer (nullable = true)\n",
      " |-- Levofloxacin: integer (nullable = true)\n",
      " |-- Levothyroxine Sodium: integer (nullable = true)\n",
      " |-- Lisinopril: integer (nullable = true)\n",
      " |-- Lorazepam: integer (nullable = true)\n",
      " |-- Magnesium Sulfate: integer (nullable = true)\n",
      " |-- Meperidine: integer (nullable = true)\n",
      " |-- MetRONIDAZOLE (FLagyl): integer (nullable = true)\n",
      " |-- Metoclopramide: integer (nullable = true)\n",
      " |-- Metoprolol: integer (nullable = true)\n",
      " |-- Metoprolol Tartrate: integer (nullable = true)\n",
      " |-- Midazolam: integer (nullable = true)\n",
      " |-- Midazolam HCl: integer (nullable = true)\n",
      " |-- Milk of Magnesia: integer (nullable = true)\n",
      " |-- Morphine Sulfate: integer (nullable = true)\n",
      " |-- Multivitamins: integer (nullable = true)\n",
      " |-- NS: integer (nullable = true)\n",
      " |-- Neutra-Phos: integer (nullable = true)\n",
      " |-- Nitroglycerin: integer (nullable = true)\n",
      " |-- Norepinephrine: integer (nullable = true)\n",
      " |-- Ondansetron: integer (nullable = true)\n",
      " |-- OxycoDONE (Immediate Release): integer (nullable = true)\n",
      " |-- Oxycodone-Acetaminophen: integer (nullable = true)\n",
      " |-- Pantoprazole: integer (nullable = true)\n",
      " |-- Pantoprazole Sodium: integer (nullable = true)\n",
      " |-- Phenylephrine: integer (nullable = true)\n",
      " |-- Phenylephrine HCl: integer (nullable = true)\n",
      " |-- Phenytoin Sodium: integer (nullable = true)\n",
      " |-- Phytonadione: integer (nullable = true)\n",
      " |-- Piperacillin-Tazobactam: integer (nullable = true)\n",
      " |-- Piperacillin-Tazobactam Na: integer (nullable = true)\n",
      " |-- Pneumococcal Vac Polyvalent: integer (nullable = true)\n",
      " |-- Potassium Chl 20 mEq / 1000 mL D5 1/2 NS: integer (nullable = true)\n",
      " |-- Potassium Chloride: integer (nullable = true)\n",
      " |-- Potassium Phosphate: integer (nullable = true)\n",
      " |-- PredniSONE: integer (nullable = true)\n",
      " |-- Propofol: integer (nullable = true)\n",
      " |-- Ranitidine: integer (nullable = true)\n",
      " |-- SW: integer (nullable = true)\n",
      " |-- Senna: integer (nullable = true)\n",
      " |-- Simvastatin: integer (nullable = true)\n",
      " |-- Sodium Bicarbonate: integer (nullable = true)\n",
      " |-- Sodium Chloride 0.9%  Flush: integer (nullable = true)\n",
      " |-- Soln.: integer (nullable = true)\n",
      " |-- Sterile Water: integer (nullable = true)\n",
      " |-- Syringe: integer (nullable = true)\n",
      " |-- Syringe (Neonatal) *D5W*: integer (nullable = true)\n",
      " |-- Thiamine: integer (nullable = true)\n",
      " |-- Vancomycin: integer (nullable = true)\n",
      " |-- Vancomycin HCl: integer (nullable = true)\n",
      " |-- Vial: integer (nullable = true)\n",
      " |-- Warfarin: integer (nullable = true)\n",
      " |-- Zolpidem Tartrate: integer (nullable = true)\n",
      "\n"
     ]
    }
   ],
   "source": [
    "print((features.count(), len(features.columns)))\n",
    "features.printSchema()"
   ]
  },
  {
   "cell_type": "markdown",
   "metadata": {},
   "source": [
    "## Procedure Features (CPT)"
   ]
  },
  {
   "cell_type": "code",
   "execution_count": null,
   "metadata": {},
   "outputs": [],
   "source": [
    "N_CPT_FEATURES = 100\n",
    "\n",
    "cpt = spark.read.csv(\"s3://mimic-raw/mimic3/cptevents/CPTEVENTS.csv\", header = True, inferSchema=True)\n",
    "\n",
    "# Filter to appropriate admissions\n",
    "cpt = cpt.where(col(\"HADM_ID\").isin(sample_admissions))\n",
    "\n",
    "# Filter to first 3 of CPT\n",
    "cpt_trimmed = cpt.select(\"HADM_ID\", \"CPT_NUMBER\").withColumn(\"CPT\", cpt.CPT_NUMBER.substr(0,3))\n",
    "\n",
    "common_cpts = cpt_trimmed.groupby(\"CPT\").count().orderBy(desc(\"count\")).limit(N_CPT_FEATURES)\n",
    "common_cpt_list = [cpt[\"CPT\"] for cpt in common_cpts.collect()]\n",
    "\n",
    "# count cpts\n",
    "cpt_counts = cpt_trimmed.select(\"HADM_ID\", \"CPT\").groupBy(\"HADM_ID\", \"CPT\").count()\n",
    "\n",
    "# Filter to most common cpt codes\n",
    "cpt_counts_filtered = cpt_counts.where(col(\"CPT\").isin(common_cpt_list))\n",
    "\n",
    "# pivot so that each cpt code is a column\n",
    "# Results in N x M matrix where N is the number of admssions, and M is the number of cpt features\n",
    "cpt_features = cpt_counts_filtered.groupBy(\"HADM_ID\").pivot(\"CPT\").sum(\"count\")"
   ]
  },
  {
   "cell_type": "code",
   "execution_count": null,
   "metadata": {},
   "outputs": [],
   "source": [
    "# save to HDFS\n",
    "cpt_features.write.csv(\"cpt_features.csv\", header=True, mode=\"overwrite\")"
   ]
  },
  {
   "cell_type": "code",
   "execution_count": 26,
   "metadata": {},
   "outputs": [],
   "source": [
    "# read from HDFS\n",
    "cpt_features = spark.read.csv(\"cpt_features.csv\", inferSchema=True, header=True)"
   ]
  },
  {
   "cell_type": "code",
   "execution_count": 27,
   "metadata": {},
   "outputs": [],
   "source": [
    "# Join with features dataframe\n",
    "features = features.join(cpt_features, on=\"HADM_ID\", how=\"left\")"
   ]
  },
  {
   "cell_type": "code",
   "execution_count": 28,
   "metadata": {},
   "outputs": [
    {
     "name": "stdout",
     "output_type": "stream",
     "text": [
      "(50605, 152)\n",
      "root\n",
      " |-- HADM_ID: integer (nullable = true)\n",
      " |-- ADMITTIME_PLUS_24H: long (nullable = true)\n",
      " |-- 0.9% Sodium Chloride: integer (nullable = true)\n",
      " |-- 0.9% Sodium Chloride (Mini Bag Plus): integer (nullable = true)\n",
      " |-- 1/2 NS: integer (nullable = true)\n",
      " |-- 5% Dextrose: integer (nullable = true)\n",
      " |-- Acetaminophen: integer (nullable = true)\n",
      " |-- Albuterol 0.083% Neb Soln: integer (nullable = true)\n",
      " |-- Amiodarone: integer (nullable = true)\n",
      " |-- Aspirin: integer (nullable = true)\n",
      " |-- Aspirin EC: integer (nullable = true)\n",
      " |-- Atorvastatin: integer (nullable = true)\n",
      " |-- Bag: integer (nullable = true)\n",
      " |-- Bisacodyl: integer (nullable = true)\n",
      " |-- Calcium Gluconate: integer (nullable = true)\n",
      " |-- Captopril: integer (nullable = true)\n",
      " |-- CefazoLIN: integer (nullable = true)\n",
      " |-- CefePIME: integer (nullable = true)\n",
      " |-- Chlorhexidine Gluconate 0.12% Oral Rinse: integer (nullable = true)\n",
      " |-- D10W: integer (nullable = true)\n",
      " |-- D5 1/2NS: integer (nullable = true)\n",
      " |-- D5W: integer (nullable = true)\n",
      " |-- Dexamethasone: integer (nullable = true)\n",
      " |-- Dextrose 5%: integer (nullable = true)\n",
      " |-- Dextrose 50%: integer (nullable = true)\n",
      " |-- Diazepam: integer (nullable = true)\n",
      " |-- Diltiazem: integer (nullable = true)\n",
      " |-- DiphenhydrAMINE: integer (nullable = true)\n",
      " |-- Docusate Sodium: integer (nullable = true)\n",
      " |-- Docusate Sodium (Liquid): integer (nullable = true)\n",
      " |-- Famotidine: integer (nullable = true)\n",
      " |-- Fentanyl Citrate: integer (nullable = true)\n",
      " |-- FoLIC Acid: integer (nullable = true)\n",
      " |-- Furosemide: integer (nullable = true)\n",
      " |-- Glucagon: integer (nullable = true)\n",
      " |-- Glycopyrrolate: integer (nullable = true)\n",
      " |-- HYDROmorphone (Dilaudid): integer (nullable = true)\n",
      " |-- Haloperidol: integer (nullable = true)\n",
      " |-- Heparin: integer (nullable = true)\n",
      " |-- Heparin Sodium: integer (nullable = true)\n",
      " |-- HydrALAzine: integer (nullable = true)\n",
      " |-- Hydromorphone: integer (nullable = true)\n",
      " |-- Influenza Virus Vaccine: integer (nullable = true)\n",
      " |-- Insulin: integer (nullable = true)\n",
      " |-- Insulin Human Regular: integer (nullable = true)\n",
      " |-- Ipratropium Bromide Neb: integer (nullable = true)\n",
      " |-- Iso-Osmotic Dextrose: integer (nullable = true)\n",
      " |-- Iso-Osmotic Sodium Chloride: integer (nullable = true)\n",
      " |-- Ketorolac: integer (nullable = true)\n",
      " |-- LR: integer (nullable = true)\n",
      " |-- Levofloxacin: integer (nullable = true)\n",
      " |-- Levothyroxine Sodium: integer (nullable = true)\n",
      " |-- Lisinopril: integer (nullable = true)\n",
      " |-- Lorazepam: integer (nullable = true)\n",
      " |-- Magnesium Sulfate: integer (nullable = true)\n",
      " |-- Meperidine: integer (nullable = true)\n",
      " |-- MetRONIDAZOLE (FLagyl): integer (nullable = true)\n",
      " |-- Metoclopramide: integer (nullable = true)\n",
      " |-- Metoprolol: integer (nullable = true)\n",
      " |-- Metoprolol Tartrate: integer (nullable = true)\n",
      " |-- Midazolam: integer (nullable = true)\n",
      " |-- Midazolam HCl: integer (nullable = true)\n",
      " |-- Milk of Magnesia: integer (nullable = true)\n",
      " |-- Morphine Sulfate: integer (nullable = true)\n",
      " |-- Multivitamins: integer (nullable = true)\n",
      " |-- NS: integer (nullable = true)\n",
      " |-- Neutra-Phos: integer (nullable = true)\n",
      " |-- Nitroglycerin: integer (nullable = true)\n",
      " |-- Norepinephrine: integer (nullable = true)\n",
      " |-- Ondansetron: integer (nullable = true)\n",
      " |-- OxycoDONE (Immediate Release): integer (nullable = true)\n",
      " |-- Oxycodone-Acetaminophen: integer (nullable = true)\n",
      " |-- Pantoprazole: integer (nullable = true)\n",
      " |-- Pantoprazole Sodium: integer (nullable = true)\n",
      " |-- Phenylephrine: integer (nullable = true)\n",
      " |-- Phenylephrine HCl: integer (nullable = true)\n",
      " |-- Phenytoin Sodium: integer (nullable = true)\n",
      " |-- Phytonadione: integer (nullable = true)\n",
      " |-- Piperacillin-Tazobactam: integer (nullable = true)\n",
      " |-- Piperacillin-Tazobactam Na: integer (nullable = true)\n",
      " |-- Pneumococcal Vac Polyvalent: integer (nullable = true)\n",
      " |-- Potassium Chl 20 mEq / 1000 mL D5 1/2 NS: integer (nullable = true)\n",
      " |-- Potassium Chloride: integer (nullable = true)\n",
      " |-- Potassium Phosphate: integer (nullable = true)\n",
      " |-- PredniSONE: integer (nullable = true)\n",
      " |-- Propofol: integer (nullable = true)\n",
      " |-- Ranitidine: integer (nullable = true)\n",
      " |-- SW: integer (nullable = true)\n",
      " |-- Senna: integer (nullable = true)\n",
      " |-- Simvastatin: integer (nullable = true)\n",
      " |-- Sodium Bicarbonate: integer (nullable = true)\n",
      " |-- Sodium Chloride 0.9%  Flush: integer (nullable = true)\n",
      " |-- Soln.: integer (nullable = true)\n",
      " |-- Sterile Water: integer (nullable = true)\n",
      " |-- Syringe: integer (nullable = true)\n",
      " |-- Syringe (Neonatal) *D5W*: integer (nullable = true)\n",
      " |-- Thiamine: integer (nullable = true)\n",
      " |-- Vancomycin: integer (nullable = true)\n",
      " |-- Vancomycin HCl: integer (nullable = true)\n",
      " |-- Vial: integer (nullable = true)\n",
      " |-- Warfarin: integer (nullable = true)\n",
      " |-- Zolpidem Tartrate: integer (nullable = true)\n",
      " |-- 110: integer (nullable = true)\n",
      " |-- 199: integer (nullable = true)\n",
      " |-- 206: integer (nullable = true)\n",
      " |-- 209: integer (nullable = true)\n",
      " |-- 225: integer (nullable = true)\n",
      " |-- 226: integer (nullable = true)\n",
      " |-- 228: integer (nullable = true)\n",
      " |-- 271: integer (nullable = true)\n",
      " |-- 272: integer (nullable = true)\n",
      " |-- 275: integer (nullable = true)\n",
      " |-- 277: integer (nullable = true)\n",
      " |-- 315: integer (nullable = true)\n",
      " |-- 316: integer (nullable = true)\n",
      " |-- 320: integer (nullable = true)\n",
      " |-- 324: integer (nullable = true)\n",
      " |-- 325: integer (nullable = true)\n",
      " |-- 326: integer (nullable = true)\n",
      " |-- 332: integer (nullable = true)\n",
      " |-- 334: integer (nullable = true)\n",
      " |-- 335: integer (nullable = true)\n",
      " |-- 338: integer (nullable = true)\n",
      " |-- 362: integer (nullable = true)\n",
      " |-- 364: integer (nullable = true)\n",
      " |-- 365: integer (nullable = true)\n",
      " |-- 366: integer (nullable = true)\n",
      " |-- 382: integer (nullable = true)\n",
      " |-- 432: integer (nullable = true)\n",
      " |-- 441: integer (nullable = true)\n",
      " |-- 471: integer (nullable = true)\n",
      " |-- 490: integer (nullable = true)\n",
      " |-- 541: integer (nullable = true)\n",
      " |-- 613: integer (nullable = true)\n",
      " |-- 615: integer (nullable = true)\n",
      " |-- 616: integer (nullable = true)\n",
      " |-- 617: integer (nullable = true)\n",
      " |-- 622: integer (nullable = true)\n",
      " |-- 630: integer (nullable = true)\n",
      " |-- 699: integer (nullable = true)\n",
      " |-- 759: integer (nullable = true)\n",
      " |-- 769: integer (nullable = true)\n",
      " |-- 908: integer (nullable = true)\n",
      " |-- 909: integer (nullable = true)\n",
      " |-- 929: integer (nullable = true)\n",
      " |-- 935: integer (nullable = true)\n",
      " |-- 938: integer (nullable = true)\n",
      " |-- 940: integer (nullable = true)\n",
      " |-- 976: integer (nullable = true)\n",
      " |-- 990: integer (nullable = true)\n",
      " |-- 992: integer (nullable = true)\n",
      " |-- 993: integer (nullable = true)\n",
      "\n"
     ]
    }
   ],
   "source": [
    "print((features.count(), len(features.columns)))\n",
    "features.printSchema()"
   ]
  },
  {
   "cell_type": "markdown",
   "metadata": {},
   "source": [
    "## Admission Characteristics"
   ]
  },
  {
   "cell_type": "code",
   "execution_count": 37,
   "metadata": {},
   "outputs": [],
   "source": [
    "# create small table with relevant admission data\n",
    "admissions = admissions.where(col('HADM_ID').isin(sample_admissions))\n",
    "admissions = admissions.select('HADM_ID', 'ADMISSION_TYPE', 'ADMISSION_LOCATION', 'INSURANCE',\n",
    " 'LANGUAGE', 'RELIGION', 'MARITAL_STATUS', 'ETHNICITY')"
   ]
  },
  {
   "cell_type": "code",
   "execution_count": 46,
   "metadata": {},
   "outputs": [],
   "source": [
    "admission_type = admissions.groupBy(\"HADM_ID\", \"ADMISSION_TYPE\").count().\\\n",
    "    groupBy(\"HADM_ID\").pivot(\"ADMISSION_TYPE\").sum(\"count\")\n",
    "admission_loc = admissions.groupBy(\"HADM_ID\", \"ADMISSION_LOCATION\").count().\\\n",
    "    groupBy(\"HADM_ID\").pivot(\"ADMISSION_LOCATION\").sum(\"count\")\n",
    "admission_insurance = admissions.groupBy(\"HADM_ID\", \"INSURANCE\").count().\\\n",
    "    groupBy(\"HADM_ID\").pivot(\"INSURANCE\").sum(\"count\")"
   ]
  },
  {
   "cell_type": "code",
   "execution_count": 47,
   "metadata": {},
   "outputs": [],
   "source": [
    "admission_features = admission_type.join(admission_loc, on=\"HADM_ID\").join(admission_insurance, on=\"HADM_ID\")"
   ]
  },
  {
   "cell_type": "code",
   "execution_count": 49,
   "metadata": {},
   "outputs": [],
   "source": [
    "# save to HDFS\n",
    "admission_features.write.csv(\"admission_features.csv\", header=True, mode=\"overwrite\")"
   ]
  },
  {
   "cell_type": "code",
   "execution_count": 9,
   "metadata": {},
   "outputs": [],
   "source": [
    "# read from HDFS\n",
    "admission_features = spark.read.csv(\"admission_features.csv\", inferSchema=True, header=True)"
   ]
  },
  {
   "cell_type": "code",
   "execution_count": 50,
   "metadata": {},
   "outputs": [],
   "source": [
    "features = features.join(admission_features, on=\"HADM_ID\", how=\"left\")"
   ]
  },
  {
   "cell_type": "code",
   "execution_count": 51,
   "metadata": {},
   "outputs": [
    {
     "name": "stdout",
     "output_type": "stream",
     "text": [
      "(50605, 170)\n",
      "root\n",
      " |-- HADM_ID: integer (nullable = true)\n",
      " |-- ADMITTIME_PLUS_24H: long (nullable = true)\n",
      " |-- 0.9% Sodium Chloride: integer (nullable = true)\n",
      " |-- 0.9% Sodium Chloride (Mini Bag Plus): integer (nullable = true)\n",
      " |-- 1/2 NS: integer (nullable = true)\n",
      " |-- 5% Dextrose: integer (nullable = true)\n",
      " |-- Acetaminophen: integer (nullable = true)\n",
      " |-- Albuterol 0.083% Neb Soln: integer (nullable = true)\n",
      " |-- Amiodarone: integer (nullable = true)\n",
      " |-- Aspirin: integer (nullable = true)\n",
      " |-- Aspirin EC: integer (nullable = true)\n",
      " |-- Atorvastatin: integer (nullable = true)\n",
      " |-- Bag: integer (nullable = true)\n",
      " |-- Bisacodyl: integer (nullable = true)\n",
      " |-- Calcium Gluconate: integer (nullable = true)\n",
      " |-- Captopril: integer (nullable = true)\n",
      " |-- CefazoLIN: integer (nullable = true)\n",
      " |-- CefePIME: integer (nullable = true)\n",
      " |-- Chlorhexidine Gluconate 0.12% Oral Rinse: integer (nullable = true)\n",
      " |-- D10W: integer (nullable = true)\n",
      " |-- D5 1/2NS: integer (nullable = true)\n",
      " |-- D5W: integer (nullable = true)\n",
      " |-- Dexamethasone: integer (nullable = true)\n",
      " |-- Dextrose 5%: integer (nullable = true)\n",
      " |-- Dextrose 50%: integer (nullable = true)\n",
      " |-- Diazepam: integer (nullable = true)\n",
      " |-- Diltiazem: integer (nullable = true)\n",
      " |-- DiphenhydrAMINE: integer (nullable = true)\n",
      " |-- Docusate Sodium: integer (nullable = true)\n",
      " |-- Docusate Sodium (Liquid): integer (nullable = true)\n",
      " |-- Famotidine: integer (nullable = true)\n",
      " |-- Fentanyl Citrate: integer (nullable = true)\n",
      " |-- FoLIC Acid: integer (nullable = true)\n",
      " |-- Furosemide: integer (nullable = true)\n",
      " |-- Glucagon: integer (nullable = true)\n",
      " |-- Glycopyrrolate: integer (nullable = true)\n",
      " |-- HYDROmorphone (Dilaudid): integer (nullable = true)\n",
      " |-- Haloperidol: integer (nullable = true)\n",
      " |-- Heparin: integer (nullable = true)\n",
      " |-- Heparin Sodium: integer (nullable = true)\n",
      " |-- HydrALAzine: integer (nullable = true)\n",
      " |-- Hydromorphone: integer (nullable = true)\n",
      " |-- Influenza Virus Vaccine: integer (nullable = true)\n",
      " |-- Insulin: integer (nullable = true)\n",
      " |-- Insulin Human Regular: integer (nullable = true)\n",
      " |-- Ipratropium Bromide Neb: integer (nullable = true)\n",
      " |-- Iso-Osmotic Dextrose: integer (nullable = true)\n",
      " |-- Iso-Osmotic Sodium Chloride: integer (nullable = true)\n",
      " |-- Ketorolac: integer (nullable = true)\n",
      " |-- LR: integer (nullable = true)\n",
      " |-- Levofloxacin: integer (nullable = true)\n",
      " |-- Levothyroxine Sodium: integer (nullable = true)\n",
      " |-- Lisinopril: integer (nullable = true)\n",
      " |-- Lorazepam: integer (nullable = true)\n",
      " |-- Magnesium Sulfate: integer (nullable = true)\n",
      " |-- Meperidine: integer (nullable = true)\n",
      " |-- MetRONIDAZOLE (FLagyl): integer (nullable = true)\n",
      " |-- Metoclopramide: integer (nullable = true)\n",
      " |-- Metoprolol: integer (nullable = true)\n",
      " |-- Metoprolol Tartrate: integer (nullable = true)\n",
      " |-- Midazolam: integer (nullable = true)\n",
      " |-- Midazolam HCl: integer (nullable = true)\n",
      " |-- Milk of Magnesia: integer (nullable = true)\n",
      " |-- Morphine Sulfate: integer (nullable = true)\n",
      " |-- Multivitamins: integer (nullable = true)\n",
      " |-- NS: integer (nullable = true)\n",
      " |-- Neutra-Phos: integer (nullable = true)\n",
      " |-- Nitroglycerin: integer (nullable = true)\n",
      " |-- Norepinephrine: integer (nullable = true)\n",
      " |-- Ondansetron: integer (nullable = true)\n",
      " |-- OxycoDONE (Immediate Release): integer (nullable = true)\n",
      " |-- Oxycodone-Acetaminophen: integer (nullable = true)\n",
      " |-- Pantoprazole: integer (nullable = true)\n",
      " |-- Pantoprazole Sodium: integer (nullable = true)\n",
      " |-- Phenylephrine: integer (nullable = true)\n",
      " |-- Phenylephrine HCl: integer (nullable = true)\n",
      " |-- Phenytoin Sodium: integer (nullable = true)\n",
      " |-- Phytonadione: integer (nullable = true)\n",
      " |-- Piperacillin-Tazobactam: integer (nullable = true)\n",
      " |-- Piperacillin-Tazobactam Na: integer (nullable = true)\n",
      " |-- Pneumococcal Vac Polyvalent: integer (nullable = true)\n",
      " |-- Potassium Chl 20 mEq / 1000 mL D5 1/2 NS: integer (nullable = true)\n",
      " |-- Potassium Chloride: integer (nullable = true)\n",
      " |-- Potassium Phosphate: integer (nullable = true)\n",
      " |-- PredniSONE: integer (nullable = true)\n",
      " |-- Propofol: integer (nullable = true)\n",
      " |-- Ranitidine: integer (nullable = true)\n",
      " |-- SW: integer (nullable = true)\n",
      " |-- Senna: integer (nullable = true)\n",
      " |-- Simvastatin: integer (nullable = true)\n",
      " |-- Sodium Bicarbonate: integer (nullable = true)\n",
      " |-- Sodium Chloride 0.9%  Flush: integer (nullable = true)\n",
      " |-- Soln.: integer (nullable = true)\n",
      " |-- Sterile Water: integer (nullable = true)\n",
      " |-- Syringe: integer (nullable = true)\n",
      " |-- Syringe (Neonatal) *D5W*: integer (nullable = true)\n",
      " |-- Thiamine: integer (nullable = true)\n",
      " |-- Vancomycin: integer (nullable = true)\n",
      " |-- Vancomycin HCl: integer (nullable = true)\n",
      " |-- Vial: integer (nullable = true)\n",
      " |-- Warfarin: integer (nullable = true)\n",
      " |-- Zolpidem Tartrate: integer (nullable = true)\n",
      " |-- 110: integer (nullable = true)\n",
      " |-- 199: integer (nullable = true)\n",
      " |-- 206: integer (nullable = true)\n",
      " |-- 209: integer (nullable = true)\n",
      " |-- 225: integer (nullable = true)\n",
      " |-- 226: integer (nullable = true)\n",
      " |-- 228: integer (nullable = true)\n",
      " |-- 271: integer (nullable = true)\n",
      " |-- 272: integer (nullable = true)\n",
      " |-- 275: integer (nullable = true)\n",
      " |-- 277: integer (nullable = true)\n",
      " |-- 315: integer (nullable = true)\n",
      " |-- 316: integer (nullable = true)\n",
      " |-- 320: integer (nullable = true)\n",
      " |-- 324: integer (nullable = true)\n",
      " |-- 325: integer (nullable = true)\n",
      " |-- 326: integer (nullable = true)\n",
      " |-- 332: integer (nullable = true)\n",
      " |-- 334: integer (nullable = true)\n",
      " |-- 335: integer (nullable = true)\n",
      " |-- 338: integer (nullable = true)\n",
      " |-- 362: integer (nullable = true)\n",
      " |-- 364: integer (nullable = true)\n",
      " |-- 365: integer (nullable = true)\n",
      " |-- 366: integer (nullable = true)\n",
      " |-- 382: integer (nullable = true)\n",
      " |-- 432: integer (nullable = true)\n",
      " |-- 441: integer (nullable = true)\n",
      " |-- 471: integer (nullable = true)\n",
      " |-- 490: integer (nullable = true)\n",
      " |-- 541: integer (nullable = true)\n",
      " |-- 613: integer (nullable = true)\n",
      " |-- 615: integer (nullable = true)\n",
      " |-- 616: integer (nullable = true)\n",
      " |-- 617: integer (nullable = true)\n",
      " |-- 622: integer (nullable = true)\n",
      " |-- 630: integer (nullable = true)\n",
      " |-- 699: integer (nullable = true)\n",
      " |-- 759: integer (nullable = true)\n",
      " |-- 769: integer (nullable = true)\n",
      " |-- 908: integer (nullable = true)\n",
      " |-- 909: integer (nullable = true)\n",
      " |-- 929: integer (nullable = true)\n",
      " |-- 935: integer (nullable = true)\n",
      " |-- 938: integer (nullable = true)\n",
      " |-- 940: integer (nullable = true)\n",
      " |-- 976: integer (nullable = true)\n",
      " |-- 990: integer (nullable = true)\n",
      " |-- 992: integer (nullable = true)\n",
      " |-- 993: integer (nullable = true)\n",
      " |-- ELECTIVE: long (nullable = true)\n",
      " |-- EMERGENCY: long (nullable = true)\n",
      " |-- NEWBORN: long (nullable = true)\n",
      " |-- URGENT: long (nullable = true)\n",
      " |-- ** INFO NOT AVAILABLE **: long (nullable = true)\n",
      " |-- CLINIC REFERRAL/PREMATURE: long (nullable = true)\n",
      " |-- EMERGENCY ROOM ADMIT: long (nullable = true)\n",
      " |-- HMO REFERRAL/SICK: long (nullable = true)\n",
      " |-- PHYS REFERRAL/NORMAL DELI: long (nullable = true)\n",
      " |-- TRANSFER FROM HOSP/EXTRAM: long (nullable = true)\n",
      " |-- TRANSFER FROM OTHER HEALT: long (nullable = true)\n",
      " |-- TRANSFER FROM SKILLED NUR: long (nullable = true)\n",
      " |-- TRSF WITHIN THIS FACILITY: long (nullable = true)\n",
      " |-- Government: long (nullable = true)\n",
      " |-- Medicaid: long (nullable = true)\n",
      " |-- Medicare: long (nullable = true)\n",
      " |-- Private: long (nullable = true)\n",
      " |-- Self Pay: long (nullable = true)\n",
      "\n"
     ]
    }
   ],
   "source": [
    "print((features.count(), len(features.columns)))\n",
    "features.printSchema()"
   ]
  },
  {
   "cell_type": "markdown",
   "metadata": {},
   "source": [
    "## Laboratory Tests"
   ]
  },
  {
   "cell_type": "code",
   "execution_count": 29,
   "metadata": {},
   "outputs": [],
   "source": [
    "N_LAB_FEATURES = 100\n",
    "\n",
    "# load labevents\n",
    "labs = spark.read.csv(\"s3://mimic-raw/mimic3/labevents/LABEVENTS.csv\", header=True, inferSchema=True)\n",
    "\n",
    "# Filter to appropriate admissions\n",
    "labs = labs.where(col(\"HADM_ID\").isin(sample_admissions))\n",
    "\n",
    "# Filter to first 24 hours\n",
    "labs = labs.join(admissions.select(\"HADM_ID\", \"ADMITTIME_UNIX\", \"ADMITTIME_PLUS_24H\"), on=\"HADM_ID\").\\\n",
    "    withColumn(\"UNIX_CHARTTIME\", unix_timestamp(labs.CHARTTIME))\n",
    "labs = labs.where((labs.UNIX_CHARTTIME >= labs.ADMITTIME_UNIX) & (labs.UNIX_CHARTTIME <= labs.ADMITTIME_PLUS_24H))"
   ]
  },
  {
   "cell_type": "code",
   "execution_count": 30,
   "metadata": {},
   "outputs": [],
   "source": [
    "# Load labels for lab test names\n",
    "lab_labels = spark.read.csv(\"s3://mimic-raw/mimic3/d_labitems/D_LABITEMS.csv\", header=True, inferSchema=True)\n",
    "\n",
    "# replace lab IDs with lab names (labels)\n",
    "labs_with_label = labs.join(lab_labels, on=\"ITEMID\").select(\"HADM_ID\", \"LABEL\")"
   ]
  },
  {
   "cell_type": "code",
   "execution_count": 31,
   "metadata": {},
   "outputs": [],
   "source": [
    "# List of N most common labs\n",
    "common_labs = labs_with_label.groupby(\"LABEL\").count().orderBy(desc(\"count\")).limit(N_LAB_FEATURES)\n",
    "common_labs_list = [lab[\"LABEL\"] for lab in common_labs.collect()]\n",
    "\n",
    "# count labs\n",
    "lab_counts = labs_with_label.groupBy(\"HADM_ID\", \"LABEL\").count()\n",
    "\n",
    "# Filter to most common labs\n",
    "lab_counts_filtered = lab_counts.where(col(\"LABEL\").isin(common_labs_list))\n",
    "\n",
    "# pivot so that each lab is a column\n",
    "# Results in N x M matrix where N is the number of admssions, and M is the number of lab features\n",
    "lab_features = lab_counts_filtered.groupBy(\"HADM_ID\").pivot(\"LABEL\").sum(\"count\")"
   ]
  },
  {
   "cell_type": "code",
   "execution_count": 32,
   "metadata": {},
   "outputs": [],
   "source": [
    "# save to HDFS\n",
    "lab_features.write.csv(\"lab_features.csv\", header=True, mode=\"overwrite\")"
   ]
  },
  {
   "cell_type": "code",
   "execution_count": 9,
   "metadata": {},
   "outputs": [],
   "source": [
    "# read from HDFS\n",
    "lab_features = spark.read.csv(\"lab_features.csv\", inferSchema=True, header=True)"
   ]
  },
  {
   "cell_type": "code",
   "execution_count": 53,
   "metadata": {},
   "outputs": [],
   "source": [
    "# Join with features dataframe\n",
    "features = features.join(lab_features, on=\"HADM_ID\", how=\"left\")"
   ]
  },
  {
   "cell_type": "code",
   "execution_count": 54,
   "metadata": {},
   "outputs": [
    {
     "name": "stdout",
     "output_type": "stream",
     "text": [
      "(50605, 270)\n",
      "root\n",
      " |-- HADM_ID: integer (nullable = true)\n",
      " |-- ADMITTIME_PLUS_24H: long (nullable = true)\n",
      " |-- 0.9% Sodium Chloride: integer (nullable = true)\n",
      " |-- 0.9% Sodium Chloride (Mini Bag Plus): integer (nullable = true)\n",
      " |-- 1/2 NS: integer (nullable = true)\n",
      " |-- 5% Dextrose: integer (nullable = true)\n",
      " |-- Acetaminophen: integer (nullable = true)\n",
      " |-- Albuterol 0.083% Neb Soln: integer (nullable = true)\n",
      " |-- Amiodarone: integer (nullable = true)\n",
      " |-- Aspirin: integer (nullable = true)\n",
      " |-- Aspirin EC: integer (nullable = true)\n",
      " |-- Atorvastatin: integer (nullable = true)\n",
      " |-- Bag: integer (nullable = true)\n",
      " |-- Bisacodyl: integer (nullable = true)\n",
      " |-- Calcium Gluconate: integer (nullable = true)\n",
      " |-- Captopril: integer (nullable = true)\n",
      " |-- CefazoLIN: integer (nullable = true)\n",
      " |-- CefePIME: integer (nullable = true)\n",
      " |-- Chlorhexidine Gluconate 0.12% Oral Rinse: integer (nullable = true)\n",
      " |-- D10W: integer (nullable = true)\n",
      " |-- D5 1/2NS: integer (nullable = true)\n",
      " |-- D5W: integer (nullable = true)\n",
      " |-- Dexamethasone: integer (nullable = true)\n",
      " |-- Dextrose 5%: integer (nullable = true)\n",
      " |-- Dextrose 50%: integer (nullable = true)\n",
      " |-- Diazepam: integer (nullable = true)\n",
      " |-- Diltiazem: integer (nullable = true)\n",
      " |-- DiphenhydrAMINE: integer (nullable = true)\n",
      " |-- Docusate Sodium: integer (nullable = true)\n",
      " |-- Docusate Sodium (Liquid): integer (nullable = true)\n",
      " |-- Famotidine: integer (nullable = true)\n",
      " |-- Fentanyl Citrate: integer (nullable = true)\n",
      " |-- FoLIC Acid: integer (nullable = true)\n",
      " |-- Furosemide: integer (nullable = true)\n",
      " |-- Glucagon: integer (nullable = true)\n",
      " |-- Glycopyrrolate: integer (nullable = true)\n",
      " |-- HYDROmorphone (Dilaudid): integer (nullable = true)\n",
      " |-- Haloperidol: integer (nullable = true)\n",
      " |-- Heparin: integer (nullable = true)\n",
      " |-- Heparin Sodium: integer (nullable = true)\n",
      " |-- HydrALAzine: integer (nullable = true)\n",
      " |-- Hydromorphone: integer (nullable = true)\n",
      " |-- Influenza Virus Vaccine: integer (nullable = true)\n",
      " |-- Insulin: integer (nullable = true)\n",
      " |-- Insulin Human Regular: integer (nullable = true)\n",
      " |-- Ipratropium Bromide Neb: integer (nullable = true)\n",
      " |-- Iso-Osmotic Dextrose: integer (nullable = true)\n",
      " |-- Iso-Osmotic Sodium Chloride: integer (nullable = true)\n",
      " |-- Ketorolac: integer (nullable = true)\n",
      " |-- LR: integer (nullable = true)\n",
      " |-- Levofloxacin: integer (nullable = true)\n",
      " |-- Levothyroxine Sodium: integer (nullable = true)\n",
      " |-- Lisinopril: integer (nullable = true)\n",
      " |-- Lorazepam: integer (nullable = true)\n",
      " |-- Magnesium Sulfate: integer (nullable = true)\n",
      " |-- Meperidine: integer (nullable = true)\n",
      " |-- MetRONIDAZOLE (FLagyl): integer (nullable = true)\n",
      " |-- Metoclopramide: integer (nullable = true)\n",
      " |-- Metoprolol: integer (nullable = true)\n",
      " |-- Metoprolol Tartrate: integer (nullable = true)\n",
      " |-- Midazolam: integer (nullable = true)\n",
      " |-- Midazolam HCl: integer (nullable = true)\n",
      " |-- Milk of Magnesia: integer (nullable = true)\n",
      " |-- Morphine Sulfate: integer (nullable = true)\n",
      " |-- Multivitamins: integer (nullable = true)\n",
      " |-- NS: integer (nullable = true)\n",
      " |-- Neutra-Phos: integer (nullable = true)\n",
      " |-- Nitroglycerin: integer (nullable = true)\n",
      " |-- Norepinephrine: integer (nullable = true)\n",
      " |-- Ondansetron: integer (nullable = true)\n",
      " |-- OxycoDONE (Immediate Release): integer (nullable = true)\n",
      " |-- Oxycodone-Acetaminophen: integer (nullable = true)\n",
      " |-- Pantoprazole: integer (nullable = true)\n",
      " |-- Pantoprazole Sodium: integer (nullable = true)\n",
      " |-- Phenylephrine: integer (nullable = true)\n",
      " |-- Phenylephrine HCl: integer (nullable = true)\n",
      " |-- Phenytoin Sodium: integer (nullable = true)\n",
      " |-- Phytonadione: integer (nullable = true)\n",
      " |-- Piperacillin-Tazobactam: integer (nullable = true)\n",
      " |-- Piperacillin-Tazobactam Na: integer (nullable = true)\n",
      " |-- Pneumococcal Vac Polyvalent: integer (nullable = true)\n",
      " |-- Potassium Chl 20 mEq / 1000 mL D5 1/2 NS: integer (nullable = true)\n",
      " |-- Potassium Chloride: integer (nullable = true)\n",
      " |-- Potassium Phosphate: integer (nullable = true)\n",
      " |-- PredniSONE: integer (nullable = true)\n",
      " |-- Propofol: integer (nullable = true)\n",
      " |-- Ranitidine: integer (nullable = true)\n",
      " |-- SW: integer (nullable = true)\n",
      " |-- Senna: integer (nullable = true)\n",
      " |-- Simvastatin: integer (nullable = true)\n",
      " |-- Sodium Bicarbonate: integer (nullable = true)\n",
      " |-- Sodium Chloride 0.9%  Flush: integer (nullable = true)\n",
      " |-- Soln.: integer (nullable = true)\n",
      " |-- Sterile Water: integer (nullable = true)\n",
      " |-- Syringe: integer (nullable = true)\n",
      " |-- Syringe (Neonatal) *D5W*: integer (nullable = true)\n",
      " |-- Thiamine: integer (nullable = true)\n",
      " |-- Vancomycin: integer (nullable = true)\n",
      " |-- Vancomycin HCl: integer (nullable = true)\n",
      " |-- Vial: integer (nullable = true)\n",
      " |-- Warfarin: integer (nullable = true)\n",
      " |-- Zolpidem Tartrate: integer (nullable = true)\n",
      " |-- 110: integer (nullable = true)\n",
      " |-- 199: integer (nullable = true)\n",
      " |-- 206: integer (nullable = true)\n",
      " |-- 209: integer (nullable = true)\n",
      " |-- 225: integer (nullable = true)\n",
      " |-- 226: integer (nullable = true)\n",
      " |-- 228: integer (nullable = true)\n",
      " |-- 271: integer (nullable = true)\n",
      " |-- 272: integer (nullable = true)\n",
      " |-- 275: integer (nullable = true)\n",
      " |-- 277: integer (nullable = true)\n",
      " |-- 315: integer (nullable = true)\n",
      " |-- 316: integer (nullable = true)\n",
      " |-- 320: integer (nullable = true)\n",
      " |-- 324: integer (nullable = true)\n",
      " |-- 325: integer (nullable = true)\n",
      " |-- 326: integer (nullable = true)\n",
      " |-- 332: integer (nullable = true)\n",
      " |-- 334: integer (nullable = true)\n",
      " |-- 335: integer (nullable = true)\n",
      " |-- 338: integer (nullable = true)\n",
      " |-- 362: integer (nullable = true)\n",
      " |-- 364: integer (nullable = true)\n",
      " |-- 365: integer (nullable = true)\n",
      " |-- 366: integer (nullable = true)\n",
      " |-- 382: integer (nullable = true)\n",
      " |-- 432: integer (nullable = true)\n",
      " |-- 441: integer (nullable = true)\n",
      " |-- 471: integer (nullable = true)\n",
      " |-- 490: integer (nullable = true)\n",
      " |-- 541: integer (nullable = true)\n",
      " |-- 613: integer (nullable = true)\n",
      " |-- 615: integer (nullable = true)\n",
      " |-- 616: integer (nullable = true)\n",
      " |-- 617: integer (nullable = true)\n",
      " |-- 622: integer (nullable = true)\n",
      " |-- 630: integer (nullable = true)\n",
      " |-- 699: integer (nullable = true)\n",
      " |-- 759: integer (nullable = true)\n",
      " |-- 769: integer (nullable = true)\n",
      " |-- 908: integer (nullable = true)\n",
      " |-- 909: integer (nullable = true)\n",
      " |-- 929: integer (nullable = true)\n",
      " |-- 935: integer (nullable = true)\n",
      " |-- 938: integer (nullable = true)\n",
      " |-- 940: integer (nullable = true)\n",
      " |-- 976: integer (nullable = true)\n",
      " |-- 990: integer (nullable = true)\n",
      " |-- 992: integer (nullable = true)\n",
      " |-- 993: integer (nullable = true)\n",
      " |-- ELECTIVE: long (nullable = true)\n",
      " |-- EMERGENCY: long (nullable = true)\n",
      " |-- NEWBORN: long (nullable = true)\n",
      " |-- URGENT: long (nullable = true)\n",
      " |-- ** INFO NOT AVAILABLE **: long (nullable = true)\n",
      " |-- CLINIC REFERRAL/PREMATURE: long (nullable = true)\n",
      " |-- EMERGENCY ROOM ADMIT: long (nullable = true)\n",
      " |-- HMO REFERRAL/SICK: long (nullable = true)\n",
      " |-- PHYS REFERRAL/NORMAL DELI: long (nullable = true)\n",
      " |-- TRANSFER FROM HOSP/EXTRAM: long (nullable = true)\n",
      " |-- TRANSFER FROM OTHER HEALT: long (nullable = true)\n",
      " |-- TRANSFER FROM SKILLED NUR: long (nullable = true)\n",
      " |-- TRSF WITHIN THIS FACILITY: long (nullable = true)\n",
      " |-- Government: long (nullable = true)\n",
      " |-- Medicaid: long (nullable = true)\n",
      " |-- Medicare: long (nullable = true)\n",
      " |-- Private: long (nullable = true)\n",
      " |-- Self Pay: long (nullable = true)\n",
      " |-- % Hemoglobin A1c: long (nullable = true)\n",
      " |-- Alanine Aminotransferase (ALT): long (nullable = true)\n",
      " |-- Albumin: long (nullable = true)\n",
      " |-- Alkaline Phosphatase: long (nullable = true)\n",
      " |-- Alveolar-arterial Gradient: long (nullable = true)\n",
      " |-- Amylase: long (nullable = true)\n",
      " |-- Anion Gap: long (nullable = true)\n",
      " |-- Anisocytosis: long (nullable = true)\n",
      " |-- Asparate Aminotransferase (AST): long (nullable = true)\n",
      " |-- Atypical Lymphocytes: long (nullable = true)\n",
      " |-- Bacteria: long (nullable = true)\n",
      " |-- Bands: long (nullable = true)\n",
      " |-- Base Excess: long (nullable = true)\n",
      " |-- Basophils: long (nullable = true)\n",
      " |-- Bicarbonate: long (nullable = true)\n",
      " |-- Bilirubin: long (nullable = true)\n",
      " |-- Bilirubin, Direct: long (nullable = true)\n",
      " |-- Bilirubin, Indirect: long (nullable = true)\n",
      " |-- Bilirubin, Total: long (nullable = true)\n",
      " |-- Blood: long (nullable = true)\n",
      " |-- CK-MB Index: long (nullable = true)\n",
      " |-- Calcium, Total: long (nullable = true)\n",
      " |-- Calculated Total CO2: long (nullable = true)\n",
      " |-- Chloride: long (nullable = true)\n",
      " |-- Chloride, Whole Blood: long (nullable = true)\n",
      " |-- Cholesterol, HDL: long (nullable = true)\n",
      " |-- Cholesterol, Total: long (nullable = true)\n",
      " |-- Creatine Kinase (CK): long (nullable = true)\n",
      " |-- Creatine Kinase, MB Isoenzyme: long (nullable = true)\n",
      " |-- Creatinine: long (nullable = true)\n",
      " |-- Creatinine, Urine: long (nullable = true)\n",
      " |-- Eosinophils: long (nullable = true)\n",
      " |-- Epithelial Cells: long (nullable = true)\n",
      " |-- Fibrinogen, Functional: long (nullable = true)\n",
      " |-- Free Calcium: long (nullable = true)\n",
      " |-- Glucose: long (nullable = true)\n",
      " |-- Hematocrit: long (nullable = true)\n",
      " |-- Hematocrit, Calculated: long (nullable = true)\n",
      " |-- Hemoglobin: long (nullable = true)\n",
      " |-- Hypochromia: long (nullable = true)\n",
      " |-- INR(PT): long (nullable = true)\n",
      " |-- Intubated: long (nullable = true)\n",
      " |-- Ketone: long (nullable = true)\n",
      " |-- Lactate: long (nullable = true)\n",
      " |-- Lactate Dehydrogenase (LD): long (nullable = true)\n",
      " |-- Length of Urine Collection: long (nullable = true)\n",
      " |-- Leukocytes: long (nullable = true)\n",
      " |-- Lipase: long (nullable = true)\n",
      " |-- Lymphocytes: long (nullable = true)\n",
      " |-- MCH: long (nullable = true)\n",
      " |-- MCHC: long (nullable = true)\n",
      " |-- MCV: long (nullable = true)\n",
      " |-- Macrocytes: long (nullable = true)\n",
      " |-- Magnesium: long (nullable = true)\n",
      " |-- Metamyelocytes: long (nullable = true)\n",
      " |-- Microcytes: long (nullable = true)\n",
      " |-- Monocytes: long (nullable = true)\n",
      " |-- Myelocytes: long (nullable = true)\n",
      " |-- Neutrophils: long (nullable = true)\n",
      " |-- Nitrite: long (nullable = true)\n",
      " |-- Nucleated Red Cells: long (nullable = true)\n",
      " |-- Oxygen: long (nullable = true)\n",
      " |-- Oxygen Saturation: long (nullable = true)\n",
      " |-- PEEP: long (nullable = true)\n",
      " |-- PT: long (nullable = true)\n",
      " |-- PTT: long (nullable = true)\n",
      " |-- Phosphate: long (nullable = true)\n",
      " |-- Platelet Count: long (nullable = true)\n",
      " |-- Platelet Smear: long (nullable = true)\n",
      " |-- Poikilocytosis: long (nullable = true)\n",
      " |-- Polychromasia: long (nullable = true)\n",
      " |-- Potassium: long (nullable = true)\n",
      " |-- Potassium, Whole Blood: long (nullable = true)\n",
      " |-- Protein: long (nullable = true)\n",
      " |-- RBC: long (nullable = true)\n",
      " |-- RDW: long (nullable = true)\n",
      " |-- Red Blood Cells: long (nullable = true)\n",
      " |-- Required O2: long (nullable = true)\n",
      " |-- SPECIMEN TYPE: long (nullable = true)\n",
      " |-- Sodium: long (nullable = true)\n",
      " |-- Sodium, Urine: long (nullable = true)\n",
      " |-- Sodium, Whole Blood: long (nullable = true)\n",
      " |-- Specific Gravity: long (nullable = true)\n",
      " |-- Temperature: long (nullable = true)\n",
      " |-- Thyroid Stimulating Hormone: long (nullable = true)\n",
      " |-- Tidal Volume: long (nullable = true)\n",
      " |-- Triglycerides: long (nullable = true)\n",
      " |-- Troponin T: long (nullable = true)\n",
      " |-- Urea Nitrogen: long (nullable = true)\n",
      " |-- Urine Appearance: long (nullable = true)\n",
      " |-- Urine Color: long (nullable = true)\n",
      " |-- Urobilinogen: long (nullable = true)\n",
      " |-- Ventilation Rate: long (nullable = true)\n",
      " |-- Ventilator: long (nullable = true)\n",
      " |-- WBC: long (nullable = true)\n",
      " |-- White Blood Cells: long (nullable = true)\n",
      " |-- Yeast: long (nullable = true)\n",
      " |-- pCO2: long (nullable = true)\n",
      " |-- pH: long (nullable = true)\n",
      " |-- pO2: long (nullable = true)\n",
      "\n"
     ]
    }
   ],
   "source": [
    "print((features.count(), len(features.columns)))\n",
    "features.printSchema()"
   ]
  },
  {
   "cell_type": "markdown",
   "metadata": {},
   "source": [
    "## NLP Features"
   ]
  },
  {
   "cell_type": "code",
   "execution_count": 1,
   "metadata": {
    "scrolled": true
   },
   "outputs": [
    {
     "data": {
      "text/plain": [
       "Waiting for a Spark session to start..."
      ]
     },
     "metadata": {},
     "output_type": "display_data"
    }
   ],
   "source": [
    "notes = spark.read.csv('s3://mimic-raw/mimic3/noteevents/updated-note.csv', header = True)"
   ]
  },
  {
   "cell_type": "code",
   "execution_count": 12,
   "metadata": {
    "collapsed": true
   },
   "outputs": [],
   "source": [
    "notes = notes.where(col(\"CHARTTIME\").isNotNull())"
   ]
  },
  {
   "cell_type": "code",
   "execution_count": 13,
   "metadata": {},
   "outputs": [],
   "source": [
    "notes = notes.where(col('HADM_ID').isin(sample_admissions))"
   ]
  },
  {
   "cell_type": "code",
   "execution_count": 14,
   "metadata": {},
   "outputs": [],
   "source": [
    "notes = notes.join(admissions.select(\"HADM_ID\", \"ADMITTIME_UNIX\", \"ADMITTIME_PLUS_24H\"), on=\"HADM_ID\").\\\n",
    "    withColumn(\"UNIX_CHARTTIME\", unix_timestamp(notes.CHARTTIME))"
   ]
  },
  {
   "cell_type": "code",
   "execution_count": 15,
   "metadata": {},
   "outputs": [
    {
     "data": {
      "text/plain": [
       "[Row(HADM_ID=u'179159', CHARTTIME=u'2116-02-07 14:08:00', CATEGORY=u'Nursing', TEXT=u'67M w/ h/o multiplemyeloma Dx [**2111**] neuropathy bed-bound cared for by    Dr [**Last Name (STitle) 731**] at [**Company 732**] last seen at [**Hospital1 54**] in [**2112**] a/w GIB. Pt was in    USH at nursing home when maroon stools were noted by staff members.    Patient himself was unaware of rectal bleeding. He denies GI symptoms.    He reports slight lightheadedness. He was transferred from NH to [**Hospital1 **] ED    where his HCT was 17.6 and plts 45 his NGT lavage was neg he was    given 2 units of PRBCs and 6 bags of plts.    Gastrointestinal bleed lower (Hematochezia BRBPR GI Bleed GIB)    Assessment:    Pt required as additional 2 units of blood when he arrived in the MICU    because his HCT only bumped to 19.8 after the 2 units if PRBCs that he    received in the EW and an additional 2 bags of plt for a plt count of    55.  He had an EGD [**2115-2-6**] no bleeding was noted.  He has had 4 liters    of golytley and will have a colonoscopy [**2-7**].  His HCT was 22 this    morning  he was given an additional unit of blood his plts were 96    this morning    Action:    Response:    Plan:    To have a colonoscopy [**2116-2-7**] if this is neg than he will swallow a    capsule.  Follow HCTs [**Hospital1 **]    Pain control (acute pain chronic pain)    Assessment:    Pt has chronic back pain for which he takes MS contin and morphine IR    we have been giving him 15 mg of MS contin q8hrs and 4 mg IM morphine    for breakthrough pain and this has worked well.    Action:    Response:    Plan:    Morphine regiment as above    Psychiatric Disease Other (including Schizophrenia Personality    Disorders)    Assessment:    Schizophrenia s/p suicide attempt (fire) he has been refusing his meds    per [**Hospital1 183**] note.  His legs have 3^rd degree burns and his truck 2^nd    decree burns.  We have been using aquacel AG for the open areas and    then wrapped in a dry sterile dressing eucerin oint for his skin.    Action:    Response:    Plan:    Follow his psych disease skin care  change dressing QD he states    that a kinair bed was too painful on his back ', ADMITTIME_UNIX=4610389560, ADMITTIME_PLUS_24H=4610475960, UNIX_CHARTTIME=4610527680), Row(HADM_ID=u'181163', CHARTTIME=u'2156-03-12 14:23:00', CATEGORY=u'Nursing', TEXT=u\"[**Age over 90 52**]F with COPD on home O2 CAD and recurrent aspiration well known to    the [**Hospital Unit Name 44**] service who is transferred back to the ICU after developing    increased respiratory distress.    She was initially admitted on [**2-23**] after developing fevers and altered    mental status. She had recently had C. difficile colitis. At [**Hospital1 54**] she    was found to have a Klebiella pneumonia UTI for which she was treated    with cefepime. Her hospital course was notable for a PEA arrest on [**2-24**]    thought [**3-6**] to aspiration. She was intubated and transferred to the    [**Hospital Unit Name 44**] for further management. She was treated with an aspiration    pneumonia initially with cefepime and vancomycin and subsequently    meropenem and vancomycin. Her sputum cultures from [**3-5**] grew MRSA for    which she has continued on vancomycin. She was transferred to the floor    on [**3-6**].    Her course on the floor has been notable for continued diarrhea and    increased lethargy on [**3-10**]. CXR obtained on [**3-10**] showed new opacity R    base and WBC elevated to 12 from 8. On [**3-11**] developed fever to 102.2    (previously afebrile on the floor) and WBC 21. CXR showed worsening    opacity at R base.  PO flagyl was added (patient already on PO vanco    for h/o C. diff) as was ceftazidime. A trigger was called [**3-11**] ~18:00    after the patient developed increased respiratory distress while lying    flat for being turned. Vitals were T 98.5 P 110 BP 150/78 RR 30 O2    85% on 30% tent mask. She was placed on a NRB with improvement in    oxygen saturations to 100%. RT performed suction x3 with whitish    secretions. She was given 10mg IV lasix x1 -- BP's decreased to 87/47    necesitating 250cc fluid bolus. She was transferred to the [**Hospital Unit Name 44**] for    further workup.    Pneumonia aspiration    Assessment:    Inproved oxygenation with supportive care    Action:    Still on 50% open face tent mask. Receiving vancomycinceftazidine and    flagyl for ? aspiration pneumonia. Receiving nebs as ordered.    Nasotracheally suctioned for  small amts of thick tan sputum.    Response:    Stable respiratory status. Respirations  consistently shallow but    diminished throughout .    Plan:    Pt called out to medical floor bed when available. Continue with    antibiotics as ordered. Plan is to speak with pt s family regarding    possible need for  tracheostomy in the setting of multiple episodes of    aspiration.continue to maintain aspiration precautions and monitor    respiratory status closely.    Hypotension (not Shock)    Assessment:    Hypotension resolved after 2 boluses of ns    Action:    Pt has not required any additional fluid boluses for hypotension. Sbp    high 90- 130 s and hr in the 80-90 s. hemodynamics were monitored and    have been stable.    Response:    normotensive    Plan:    Follow hemodynamics closely and hold lopressor if sbp < 110. goal for    i&o is to be even. \", ADMITTIME_UNIX=5874167280, ADMITTIME_PLUS_24H=5874253680, UNIX_CHARTTIME=5875770180), Row(HADM_ID=u'181163', CHARTTIME=u'2156-03-12 14:28:00', CATEGORY=u'Nursing', TEXT=u\"[**Age over 90 52**]F with COPD on home O2 CAD and recurrent aspiration well known to    the [**Hospital Unit Name 44**] service who is transferred back to the ICU after developing    increased respiratory distress.    She was initially admitted on [**2-23**] after developing fevers and altered    mental status. She had recently had C. difficile colitis. At [**Hospital1 54**] she    was found to have a Klebiella pneumonia UTI for which she was treated    with cefepime. Her hospital course was notable for a PEA arrest on [**2-24**]    thought [**3-6**] to aspiration. She was intubated and transferred to the    [**Hospital Unit Name 44**] for further management. She was treated with an aspiration    pneumonia initially with cefepime and vancomycin and subsequently    meropenem and vancomycin. Her sputum cultures from [**3-5**] grew MRSA for    which she has continued on vancomycin. She was transferred to the floor    on [**3-6**].    Her course on the floor has been notable for continued diarrhea and    increased lethargy on [**3-10**]. CXR obtained on [**3-10**] showed new opacity R    base and WBC elevated to 12 from 8. On [**3-11**] developed fever to 102.2    (previously afebrile on the floor) and WBC 21. CXR showed worsening    opacity at R base.  PO flagyl was added (patient already on PO vanco    for h/o C. diff) as was ceftazidime. A trigger was called [**3-11**] ~18:00    after the patient developed increased respiratory distress while lying    flat for being turned. Vitals were T 98.5 P 110 BP 150/78 RR 30 O2    85% on 30% tent mask. She was placed on a NRB with improvement in    oxygen saturations to 100%. RT performed suction x3 with whitish    secretions. She was given 10mg IV lasix x1 -- BP's decreased to 87/47    necesitating 250cc fluid bolus. She was transferred to the [**Hospital Unit Name 44**] for    further workup.    Pneumonia aspiration    Assessment:    Inproved oxygenation with supportive care    Action:    Still on 50% open face tent mask. Receiving vancomycinceftazidine and    flagyl for ? aspiration pneumonia. Receiving nebs as ordered.    Nasotracheally suctioned for  small amts of thick tan sputum.    Response:    Stable respiratory status. Respirations  consistently shallow but    diminished throughout .    Plan:    Pt called out to medical floor bed when available. Continue with    antibiotics as ordered. Plan is to speak with pt s family regarding    possible need for  tracheostomy in the setting of multiple episodes of    aspiration.continue to maintain aspiration precautions and monitor    respiratory status closely.    Hypotension (not Shock)    Assessment:    Hypotension resolved after 2 boluses of ns    Action:    Pt has not required any additional fluid boluses for hypotension. Sbp    high 90- 130 s and hr in the 80-90 s. hemodynamics were monitored and    have been stable.    Response:    normotensive    Plan:    Follow hemodynamics closely and hold lopressor if sbp < 110. goal for    i&o is to be even. \", ADMITTIME_UNIX=5874167280, ADMITTIME_PLUS_24H=5874253680, UNIX_CHARTTIME=5875770480)]"
      ]
     },
     "execution_count": 15,
     "metadata": {},
     "output_type": "execute_result"
    }
   ],
   "source": [
    "notes.take(3)"
   ]
  },
  {
   "cell_type": "code",
   "execution_count": 16,
   "metadata": {},
   "outputs": [
    {
     "data": {
      "text/plain": [
       "1298607"
      ]
     },
     "execution_count": 16,
     "metadata": {},
     "output_type": "execute_result"
    }
   ],
   "source": [
    "notes.count()"
   ]
  },
  {
   "cell_type": "code",
   "execution_count": 17,
   "metadata": {},
   "outputs": [],
   "source": [
    "notes = notes.where((notes.UNIX_CHARTTIME >= notes.ADMITTIME_UNIX) & (notes.UNIX_CHARTTIME <= notes.ADMITTIME_PLUS_24H))"
   ]
  },
  {
   "cell_type": "code",
   "execution_count": 18,
   "metadata": {},
   "outputs": [
    {
     "data": {
      "text/plain": [
       "209986"
      ]
     },
     "execution_count": 18,
     "metadata": {},
     "output_type": "execute_result"
    }
   ],
   "source": [
    "notes.count()"
   ]
  },
  {
   "cell_type": "code",
   "execution_count": 42,
   "metadata": {},
   "outputs": [],
   "source": [
    "a = notes.select(notes['HADM_ID']).distinct()"
   ]
  },
  {
   "cell_type": "code",
   "execution_count": 43,
   "metadata": {},
   "outputs": [
    {
     "data": {
      "text/plain": [
       "42100"
      ]
     },
     "execution_count": 43,
     "metadata": {},
     "output_type": "execute_result"
    }
   ],
   "source": [
    "a.count()"
   ]
  },
  {
   "cell_type": "code",
   "execution_count": 19,
   "metadata": {},
   "outputs": [],
   "source": [
    "import pyspark.sql.functions as f\n",
    "t = notes.groupby(\"HADM_ID\").agg(f.concat_ws(\", \", f.collect_list(notes.TEXT)))"
   ]
  },
  {
   "cell_type": "code",
   "execution_count": 20,
   "metadata": {},
   "outputs": [
    {
     "data": {
      "text/plain": [
       "[Row(HADM_ID=u'100140', concat_ws(, , collect_list(TEXT))=u'MICU/SICU NURSING ADMIT NOTE:  24 y.o female PMH: Subdural hematoma evacuated s/p head injury from MVA one year ago no residuals. PT with prolonged intubations and multiple self extubations s/p MVA. PT developed tracheal stenosis.  Trach placed [**7-15**].  Trach changed to t-tube [**12-16**].  PT from [**State **] admitted today for elective micro laryngoscopy with laser lysis of subglottis stenosis and placement of new t-tube.  PRocedure minimally successful.  WIll need repeat procedure to remove scar tissue between vocal cords.  Tx to MICU/SICU for overnight observation and monitoring. ENT beeper # [**Numeric Identifier 7123**]  Neuro:  PT alert oriented X 3 MAE. Denies pain at this time.  Pupils equal/reactive. + cough/gag.  TAlks with electrolarnyx.  CV:  Temp 99.5 HR 80-100 NSR no ectopy.  BP stable.  - edema + pulses.  # 20 IV in R AC D5LR @ 90 cc/hr infusing without difficulty.  Pt denies chest pain SOB dizziness at this time.  PULM:  T-tube in place with humidifier piece attached (PT brought from home MD aware) MInimal serosang drainage from around site. 4.5 and 5.0 ETT @ bedside [**Name8 (MD) 52**] MD order. PT to receive chest PT Q 4 hours.  Lungs CTA sats 95-98% on RA.  GI/GU:  Abd benign pt denies n/v.  PT has not voided since arrival to unitbut pt denies problems in past.  Plan:  Keep sats > 93 % Chest PT humidifier in place monitor overnight repeat procedure for scar tissue removal in future. , [**Hospital Ward Name 402**] 4 MICU/SICU NURSING PROGRESS NOTE ([**2117-6-17**] @ 1900H TO [**2117-6-18**] @ 0700H):  SEE NURSING ADMISSION DATA BASE/ASSESSMENT FOR HISTORY OF PAST AND PRESENT ILLNESSES.  NEURO:  PT IS ALERT AND ORIENTED X3.  MOVES ALL EXTREMITIES EQUALLY AND STRONG.  NO COMLAINTS OF PAIN.  SEE FLOWSHEET FOR FURTHER DETAILS.  CARDIAC:  VSS. MONITORING SR-ST WITH NO NOTED ECTOPY.  PULSES PALPABLE.  D5LR INFUSED @ 90CC/H UNTIL ~0520H.  SEE FLOWSHEET FOR FURTHER DETAILS.  RESP:  NEW T-TUBE YESTERDAY WITH REVISION OF TRACHEOSTOMY.  MICROLARYNGOSCOPY WITH LASER LYSIS OF SUBGLOTTIS STENOSIS WAS MINIMALLY SUCCESSFUL YESTERDAY DUE TO AMOUNT OF SCAR TISSSUE.  PT HAS SUCTIONED HERSELF AS NEEDED FOR BLOODY SECRETIONS.  LUNGS HAVE BEEN CLEAR.  O2 SAT 97-100%.  NO COMPLAINTS OF SOB.  NO COMPLAINTS OF CONGESTION.  PT ABLE TO EXPECTORATE SECRETIONS WELL.  HUMIDIFIED O2 OVERNIGHT @ 30%.  SEE FLOWSHEET FOR FURTHER DETAILS.  GI:  BOWEL SOUNDS PRESENT X4.  ABDOMEN OBESE.  NO BOWEL MOVEMENT NOTED.  TAKING CLEAR LIQUIDS AND SHOULD ADVANCE TO REGULAR DIET AS TOLERATED TODAY (DIET SHEET FILLED OUT AND FAXED TO KITCHEN EARLY THIS AM BEFORE 0600H).  SEE FLOWSHEET FOR FURTHER DETAILS.  GU:  VOIDING PER COMMODE.  SEE FLOWSHEET FOR FURTHER DETAILS.  ACCESS:  #20 GAUGE SALINE LOCK IN RIGHT ACF.  PLAN:  PT WILL LIKELY BE DISCHARGED HOME TODAY AND WILL RETURN FOR RECONSTRUCTIVE SURGERY IN APPROXIMATELY 1 WEEK. , Pt is on 35 % trach collar for hydration of t-tube and trach. She is mostly self care and is able to clear secretions with coughing and use of a # 10 FG suctiion catheter. She also has brought a supply of small HME from home which she uses during the day. Her lungs are completely clear and lung expantion is very good , Nursing NOTe:  Pt being discharged to home.  Discharge instructions and prescriptions given to patient pt verbalizes understanding.  PT denies pain SOB other discomfort at this time. IV d/c dsg applied. will continue to monitor until Father arrives for d/c. '), Row(HADM_ID=u'100227', concat_ws(, , collect_list(TEXT))=u'[**2160-12-7**] 1:57 PM  C-SPINE (PORTABLE)                                              Clip # [**Clip Number (Radiology) 75996**]  Reason: evaluate for odontoid fracture/subluxation; please obtain la  Admitting Diagnosis: HYPOTENSION;ALTERED MENTAL STATUS  ______________________________________________________________________________  [**Hospital 2**] MEDICAL CONDITION:   46 year old woman with question of odontoid subluxation/fracture of CT head   unknown chronicity; pt intubated in the MICU for suspected polysubstance   overdose  REASON FOR THIS EXAMINATION:   evaluate for odontoid fracture/subluxation; please obtain lateral view  ______________________________________________________________________________                                  FINAL REPORT  HISTORY:  Possible odontoid fracture.   FINDINGS:  Limit of lateral view fails to adequately demonstrate the odontoid  process to effectively determine whether there is a subluxation CT would be  necessary for further evaluation.   There is an anterior fusion with interbody spacer at C6-7.   , [**2160-12-7**] 4:54 AM  PELVIS (AP ONLY)                                                Clip # [**Clip Number (Radiology) 75873**]  Reason: eval post-reduction  Admitting Diagnosis: HYPOTENSION;ALTERED MENTAL STATUS  ______________________________________________________________________________  [**Hospital 2**] MEDICAL CONDITION:   46 year old woman with new L hip reduction  REASON FOR THIS EXAMINATION:   eval post-reduction  ______________________________________________________________________________                                  FINAL REPORT  PORTABLE AP PELVIS FILM   CLINICAL INDICATION:  46-year-old with left hip reduction.  Evaluate for  position.   Comparison is made to selected images from an abdominal pelvic CT scan dated  [**2160-12-7**].   SINGLE PORTABLE AP PELVIC FILM WAS OBTAINED [**2160-12-7**] AT 0452:   Bilateral total hip replacements are seen.  The femoral and acetabular  components appear to be well approximated on this single AP view.  The distal  end of both femoral components is not included on the image.  There is no  evidence of loosening of the femoral components.  Hypertrophic bone is seen  lateral to the right femoral component.  A right femoral catheter is in place.  No displaced fracture of the pelvis is appreciated.  Surgical chain sutures  are seen in the right lower quadrant suggesting prior colonic surgery.  A  Foley catheter is in place.  Several radiopaque densities are seen lateral to  the left femoral component within the soft tissues which may be sutural in  etiology.  Clinical correlation is advised.   IMPRESSION:   Bilateral total hip replacements with both appearing to be normally positioned  on this single portable view.  No evidence of displaced fracture of the  pelvis.   '), Row(HADM_ID=u'100263', concat_ws(, , collect_list(TEXT))=u\"[**2102-4-21**] 7:29 AM  CHEST (PORTABLE AP)                                             Clip # [**Clip Number (Radiology) 115436**]  Reason: ?interval change  Admitting Diagnosis: RENAL FAILURE;PNEUMONIA  ______________________________________________________________________________  [**Hospital 2**] MEDICAL CONDITION:   47 year old man with hypoxic resp failure RLL consolidation.  REASON FOR THIS EXAMINATION:   ?interval change  ______________________________________________________________________________                                  FINAL REPORT  REASON FOR EXAMINATION:  Hypoxic respiratory failure.   Portable AP radiograph of the chest was reviewed in comparison to [**2102-4-20**].   ET tube tip is 6 cm above the carina.  The NG tube tip is not clearly seen on  the current study most likely in the stomach.  Right pleural effusion and  right lung atelectasis are unchanged moderate.   , [**2102-4-20**] 10:22 PM  CT CHEST W/O CONTRAST                                           Clip # [**Clip Number (Radiology) 114335**]  Reason: better evaluate lung parenchyma  Admitting Diagnosis: RENAL FAILURE;PNEUMONIA  Field of view: 40  ______________________________________________________________________________  [**Hospital 2**] MEDICAL CONDITION:   History: 47M with RLL PNA and concern for appearance of his CXR would like to   better assess lung parenchyma in setting of difficulty with ventilation of   patient  REASON FOR THIS EXAMINATION:   better evaluate lung parenchyma  No contraindications for IV contrast  ______________________________________________________________________________  WET READ: [**First Name9 (NamePattern2) 1604**] [**Doctor First Name 137**] [**2102-4-20**] 11:24 PM   1. Complete RLL collapse with partial RML collapse. Supervening infection   cannot be excluded. Central airways are patent. No obstructing lesion seen on   this NECT.   2. Bronchial wall thickening in the right upper lobe.  A 0.6 x 2.3cm nodular   focus (4:54) at the right apex. This may represent atelectasis or scarring but   comparisons with prior (if available) may be helpful. Consider follow up after   treatment.   3.  Clear left lung. No pleural effusions   4. ETT ends 4.6cm above carina. NGT enters stomach but tip is not imaged.   Small right Bochdalek hernia.  ______________________________________________________________________________                                  FINAL REPORT  CHEST CT ON [**4-20**]   HISTORY:  47-year-old male with right lower lobe pneumonia and possible hilar  mass or obstruction.   TECHNIQUE:  Multidetector helical scanning of the chest was performed without  intravenous contrast [**Doctor Last Name 1309**] reconstructed as contiguous 5- and 1.25-mm thick  axial and 5-mm thick coronal and parasagittal images read in conjunction with  a conventional chest radiograph six hours earlier.   FINDINGS:   The right middle and lower lobe are collapsed.  Bronchiectasis is mild in the  segmental and subsegmental bronchi of the middle lobe and in the subsegmental  divisions of the superior and basal segments.  There is no central bronchial  occlusion.  The constellation suggests that atelectasis may well be chronic.  There is no indication of pneumonia or pleural or pericardial abnormality.  A  few small bronchi in the posterior segment of the right upper lobe are  impacted and there is mild heterogeneity in background density of both upper  lobes suggesting small airway obstruction or mild emphysema.  Mediastinal  lymph nodes are not pathologically enlarged.  In the absence of contrast  administration I cannot say that there are no enlarged right hilar lymph  nodes (there are none on the left) but even if right hilar nodes are present  they are not contributing to the atelectasis because there is no bronchial  obstruction.                                                               (Over)   [**2102-4-20**] 10:22 PM  CT CHEST W/O CONTRAST                                           Clip # [**Clip Number (Radiology) 114335**]  Reason: better evaluate lung parenchyma  Admitting Diagnosis: RENAL FAILURE;PNEUMONIA  Field of view: 40  ______________________________________________________________________________                                  FINAL REPORT  (Cont)  Heart is normal size and the study is notable for the virtual absence of  atherosclerotic calcification except for small plaques at the bifurcation of  the innominate artery.  ET tube is in standard placement.  Excretions are  pooled above the inflated cuff.   This study is not designed for subdiaphragmatic diagnosis except to note there  is no adrenal mass.  A small Bochdalek hernia in the posterior right  hemidiaphragm transmits only subphrenic fat.   IMPRESSION:  1.  Combination of mild but diffuse bronchiectasis in collapsed right middle  and lower lobes.  In the absence of bronchial obstruction this suggests that  the collapse is not acute.  No evidence of pneumonia.  Minimal mucoid  impaction in small bronchi in the upper lobe.  2.  Either small airway obstruction or mild emphysema.  , [**2102-4-21**] 5:03 PM  CHEST PORT. LINE PLACEMENT; -77 BY DIFFERENT PHYSICIAN          [**Name Initial (PRE) 26**] # [**Clip Number (Radiology) 114336**]  Reason: Placement of new RIJ CVL  Admitting Diagnosis: RENAL FAILURE;PNEUMONIA  ______________________________________________________________________________  [**Hospital 2**] MEDICAL CONDITION:   47 year old man with renal/ respiratory failure  REASON FOR THIS EXAMINATION:   Placement of new RIJ CVL  ______________________________________________________________________________  WET READ: [**Hospital 1604**] FRI [**2102-4-21**] 9:02 PM   R IJ CVL ends in the mid SVC. No pneumothorax. ETT ends 5.6cm above carina.   NGT goes below diaphragm although tip not visualized. R basilar atelectasis   and small R effusion are similar.  ______________________________________________________________________________                                  FINAL REPORT  CHEST PORT LINE PLACEMENT [**2102-4-21**] AT 17:25   CLINICAL INDICATION:  47-year-old with renal respiratory failure with  placement of new right IJ central line check position.   Comparison is made to the patient's prior study of [**2102-4-21**] at 7:31.   IMPRESSION:   1.  Interval placement of a right internal jugular central line with its tip  in the mid superior vena cava.  The endotracheal tube has its tip  approximately 5.5 cm above the carina unchanged.  A nasogastric tube is seen  coursing below the diaphragm with the tip not identified.  Patchy and linear  opacity at the right base is stable suggestive of patchy and subsegmental  atelectasis.  Probable small layering right effusion.  The lungs are otherwise  clear without evidence of pulmonary edema or pneumothorax.  Overall cardiac  and mediastinal contours are stable given differences in positioning.   \")]"
      ]
     },
     "execution_count": 20,
     "metadata": {},
     "output_type": "execute_result"
    }
   ],
   "source": [
    "t.take(3)"
   ]
  },
  {
   "cell_type": "code",
   "execution_count": 21,
   "metadata": {},
   "outputs": [],
   "source": [
    "notes = t.withColumnRenamed(\"concat_ws(, , collect_list(TEXT))\", \"TEXT\")"
   ]
  },
  {
   "cell_type": "code",
   "execution_count": null,
   "metadata": {},
   "outputs": [],
   "source": [
    "notes.write.csv(\"notes_raw.csv\", header=True, mode=\"overwrite\")"
   ]
  },
  {
   "cell_type": "code",
   "execution_count": 22,
   "metadata": {},
   "outputs": [
    {
     "data": {
      "text/plain": [
       "[Row(HADM_ID=u'100140', TEXT=u'MICU/SICU NURSING ADMIT NOTE:  24 y.o female PMH: Subdural hematoma evacuated s/p head injury from MVA one year ago no residuals. PT with prolonged intubations and multiple self extubations s/p MVA. PT developed tracheal stenosis.  Trach placed [**7-15**].  Trach changed to t-tube [**12-16**].  PT from [**State **] admitted today for elective micro laryngoscopy with laser lysis of subglottis stenosis and placement of new t-tube.  PRocedure minimally successful.  WIll need repeat procedure to remove scar tissue between vocal cords.  Tx to MICU/SICU for overnight observation and monitoring. ENT beeper # [**Numeric Identifier 7123**]  Neuro:  PT alert oriented X 3 MAE. Denies pain at this time.  Pupils equal/reactive. + cough/gag.  TAlks with electrolarnyx.  CV:  Temp 99.5 HR 80-100 NSR no ectopy.  BP stable.  - edema + pulses.  # 20 IV in R AC D5LR @ 90 cc/hr infusing without difficulty.  Pt denies chest pain SOB dizziness at this time.  PULM:  T-tube in place with humidifier piece attached (PT brought from home MD aware) MInimal serosang drainage from around site. 4.5 and 5.0 ETT @ bedside [**Name8 (MD) 52**] MD order. PT to receive chest PT Q 4 hours.  Lungs CTA sats 95-98% on RA.  GI/GU:  Abd benign pt denies n/v.  PT has not voided since arrival to unitbut pt denies problems in past.  Plan:  Keep sats > 93 % Chest PT humidifier in place monitor overnight repeat procedure for scar tissue removal in future. , [**Hospital Ward Name 402**] 4 MICU/SICU NURSING PROGRESS NOTE ([**2117-6-17**] @ 1900H TO [**2117-6-18**] @ 0700H):  SEE NURSING ADMISSION DATA BASE/ASSESSMENT FOR HISTORY OF PAST AND PRESENT ILLNESSES.  NEURO:  PT IS ALERT AND ORIENTED X3.  MOVES ALL EXTREMITIES EQUALLY AND STRONG.  NO COMLAINTS OF PAIN.  SEE FLOWSHEET FOR FURTHER DETAILS.  CARDIAC:  VSS. MONITORING SR-ST WITH NO NOTED ECTOPY.  PULSES PALPABLE.  D5LR INFUSED @ 90CC/H UNTIL ~0520H.  SEE FLOWSHEET FOR FURTHER DETAILS.  RESP:  NEW T-TUBE YESTERDAY WITH REVISION OF TRACHEOSTOMY.  MICROLARYNGOSCOPY WITH LASER LYSIS OF SUBGLOTTIS STENOSIS WAS MINIMALLY SUCCESSFUL YESTERDAY DUE TO AMOUNT OF SCAR TISSSUE.  PT HAS SUCTIONED HERSELF AS NEEDED FOR BLOODY SECRETIONS.  LUNGS HAVE BEEN CLEAR.  O2 SAT 97-100%.  NO COMPLAINTS OF SOB.  NO COMPLAINTS OF CONGESTION.  PT ABLE TO EXPECTORATE SECRETIONS WELL.  HUMIDIFIED O2 OVERNIGHT @ 30%.  SEE FLOWSHEET FOR FURTHER DETAILS.  GI:  BOWEL SOUNDS PRESENT X4.  ABDOMEN OBESE.  NO BOWEL MOVEMENT NOTED.  TAKING CLEAR LIQUIDS AND SHOULD ADVANCE TO REGULAR DIET AS TOLERATED TODAY (DIET SHEET FILLED OUT AND FAXED TO KITCHEN EARLY THIS AM BEFORE 0600H).  SEE FLOWSHEET FOR FURTHER DETAILS.  GU:  VOIDING PER COMMODE.  SEE FLOWSHEET FOR FURTHER DETAILS.  ACCESS:  #20 GAUGE SALINE LOCK IN RIGHT ACF.  PLAN:  PT WILL LIKELY BE DISCHARGED HOME TODAY AND WILL RETURN FOR RECONSTRUCTIVE SURGERY IN APPROXIMATELY 1 WEEK. , Pt is on 35 % trach collar for hydration of t-tube and trach. She is mostly self care and is able to clear secretions with coughing and use of a # 10 FG suctiion catheter. She also has brought a supply of small HME from home which she uses during the day. Her lungs are completely clear and lung expantion is very good , Nursing NOTe:  Pt being discharged to home.  Discharge instructions and prescriptions given to patient pt verbalizes understanding.  PT denies pain SOB other discomfort at this time. IV d/c dsg applied. will continue to monitor until Father arrives for d/c. '), Row(HADM_ID=u'100227', TEXT=u'[**2160-12-7**] 1:57 PM  C-SPINE (PORTABLE)                                              Clip # [**Clip Number (Radiology) 75996**]  Reason: evaluate for odontoid fracture/subluxation; please obtain la  Admitting Diagnosis: HYPOTENSION;ALTERED MENTAL STATUS  ______________________________________________________________________________  [**Hospital 2**] MEDICAL CONDITION:   46 year old woman with question of odontoid subluxation/fracture of CT head   unknown chronicity; pt intubated in the MICU for suspected polysubstance   overdose  REASON FOR THIS EXAMINATION:   evaluate for odontoid fracture/subluxation; please obtain lateral view  ______________________________________________________________________________                                  FINAL REPORT  HISTORY:  Possible odontoid fracture.   FINDINGS:  Limit of lateral view fails to adequately demonstrate the odontoid  process to effectively determine whether there is a subluxation CT would be  necessary for further evaluation.   There is an anterior fusion with interbody spacer at C6-7.   , [**2160-12-7**] 4:54 AM  PELVIS (AP ONLY)                                                Clip # [**Clip Number (Radiology) 75873**]  Reason: eval post-reduction  Admitting Diagnosis: HYPOTENSION;ALTERED MENTAL STATUS  ______________________________________________________________________________  [**Hospital 2**] MEDICAL CONDITION:   46 year old woman with new L hip reduction  REASON FOR THIS EXAMINATION:   eval post-reduction  ______________________________________________________________________________                                  FINAL REPORT  PORTABLE AP PELVIS FILM   CLINICAL INDICATION:  46-year-old with left hip reduction.  Evaluate for  position.   Comparison is made to selected images from an abdominal pelvic CT scan dated  [**2160-12-7**].   SINGLE PORTABLE AP PELVIC FILM WAS OBTAINED [**2160-12-7**] AT 0452:   Bilateral total hip replacements are seen.  The femoral and acetabular  components appear to be well approximated on this single AP view.  The distal  end of both femoral components is not included on the image.  There is no  evidence of loosening of the femoral components.  Hypertrophic bone is seen  lateral to the right femoral component.  A right femoral catheter is in place.  No displaced fracture of the pelvis is appreciated.  Surgical chain sutures  are seen in the right lower quadrant suggesting prior colonic surgery.  A  Foley catheter is in place.  Several radiopaque densities are seen lateral to  the left femoral component within the soft tissues which may be sutural in  etiology.  Clinical correlation is advised.   IMPRESSION:   Bilateral total hip replacements with both appearing to be normally positioned  on this single portable view.  No evidence of displaced fracture of the  pelvis.   '), Row(HADM_ID=u'100263', TEXT=u\"[**2102-4-21**] 7:29 AM  CHEST (PORTABLE AP)                                             Clip # [**Clip Number (Radiology) 115436**]  Reason: ?interval change  Admitting Diagnosis: RENAL FAILURE;PNEUMONIA  ______________________________________________________________________________  [**Hospital 2**] MEDICAL CONDITION:   47 year old man with hypoxic resp failure RLL consolidation.  REASON FOR THIS EXAMINATION:   ?interval change  ______________________________________________________________________________                                  FINAL REPORT  REASON FOR EXAMINATION:  Hypoxic respiratory failure.   Portable AP radiograph of the chest was reviewed in comparison to [**2102-4-20**].   ET tube tip is 6 cm above the carina.  The NG tube tip is not clearly seen on  the current study most likely in the stomach.  Right pleural effusion and  right lung atelectasis are unchanged moderate.   , [**2102-4-20**] 10:22 PM  CT CHEST W/O CONTRAST                                           Clip # [**Clip Number (Radiology) 114335**]  Reason: better evaluate lung parenchyma  Admitting Diagnosis: RENAL FAILURE;PNEUMONIA  Field of view: 40  ______________________________________________________________________________  [**Hospital 2**] MEDICAL CONDITION:   History: 47M with RLL PNA and concern for appearance of his CXR would like to   better assess lung parenchyma in setting of difficulty with ventilation of   patient  REASON FOR THIS EXAMINATION:   better evaluate lung parenchyma  No contraindications for IV contrast  ______________________________________________________________________________  WET READ: [**First Name9 (NamePattern2) 1604**] [**Doctor First Name 137**] [**2102-4-20**] 11:24 PM   1. Complete RLL collapse with partial RML collapse. Supervening infection   cannot be excluded. Central airways are patent. No obstructing lesion seen on   this NECT.   2. Bronchial wall thickening in the right upper lobe.  A 0.6 x 2.3cm nodular   focus (4:54) at the right apex. This may represent atelectasis or scarring but   comparisons with prior (if available) may be helpful. Consider follow up after   treatment.   3.  Clear left lung. No pleural effusions   4. ETT ends 4.6cm above carina. NGT enters stomach but tip is not imaged.   Small right Bochdalek hernia.  ______________________________________________________________________________                                  FINAL REPORT  CHEST CT ON [**4-20**]   HISTORY:  47-year-old male with right lower lobe pneumonia and possible hilar  mass or obstruction.   TECHNIQUE:  Multidetector helical scanning of the chest was performed without  intravenous contrast [**Doctor Last Name 1309**] reconstructed as contiguous 5- and 1.25-mm thick  axial and 5-mm thick coronal and parasagittal images read in conjunction with  a conventional chest radiograph six hours earlier.   FINDINGS:   The right middle and lower lobe are collapsed.  Bronchiectasis is mild in the  segmental and subsegmental bronchi of the middle lobe and in the subsegmental  divisions of the superior and basal segments.  There is no central bronchial  occlusion.  The constellation suggests that atelectasis may well be chronic.  There is no indication of pneumonia or pleural or pericardial abnormality.  A  few small bronchi in the posterior segment of the right upper lobe are  impacted and there is mild heterogeneity in background density of both upper  lobes suggesting small airway obstruction or mild emphysema.  Mediastinal  lymph nodes are not pathologically enlarged.  In the absence of contrast  administration I cannot say that there are no enlarged right hilar lymph  nodes (there are none on the left) but even if right hilar nodes are present  they are not contributing to the atelectasis because there is no bronchial  obstruction.                                                               (Over)   [**2102-4-20**] 10:22 PM  CT CHEST W/O CONTRAST                                           Clip # [**Clip Number (Radiology) 114335**]  Reason: better evaluate lung parenchyma  Admitting Diagnosis: RENAL FAILURE;PNEUMONIA  Field of view: 40  ______________________________________________________________________________                                  FINAL REPORT  (Cont)  Heart is normal size and the study is notable for the virtual absence of  atherosclerotic calcification except for small plaques at the bifurcation of  the innominate artery.  ET tube is in standard placement.  Excretions are  pooled above the inflated cuff.   This study is not designed for subdiaphragmatic diagnosis except to note there  is no adrenal mass.  A small Bochdalek hernia in the posterior right  hemidiaphragm transmits only subphrenic fat.   IMPRESSION:  1.  Combination of mild but diffuse bronchiectasis in collapsed right middle  and lower lobes.  In the absence of bronchial obstruction this suggests that  the collapse is not acute.  No evidence of pneumonia.  Minimal mucoid  impaction in small bronchi in the upper lobe.  2.  Either small airway obstruction or mild emphysema.  , [**2102-4-21**] 5:03 PM  CHEST PORT. LINE PLACEMENT; -77 BY DIFFERENT PHYSICIAN          [**Name Initial (PRE) 26**] # [**Clip Number (Radiology) 114336**]  Reason: Placement of new RIJ CVL  Admitting Diagnosis: RENAL FAILURE;PNEUMONIA  ______________________________________________________________________________  [**Hospital 2**] MEDICAL CONDITION:   47 year old man with renal/ respiratory failure  REASON FOR THIS EXAMINATION:   Placement of new RIJ CVL  ______________________________________________________________________________  WET READ: [**Hospital 1604**] FRI [**2102-4-21**] 9:02 PM   R IJ CVL ends in the mid SVC. No pneumothorax. ETT ends 5.6cm above carina.   NGT goes below diaphragm although tip not visualized. R basilar atelectasis   and small R effusion are similar.  ______________________________________________________________________________                                  FINAL REPORT  CHEST PORT LINE PLACEMENT [**2102-4-21**] AT 17:25   CLINICAL INDICATION:  47-year-old with renal respiratory failure with  placement of new right IJ central line check position.   Comparison is made to the patient's prior study of [**2102-4-21**] at 7:31.   IMPRESSION:   1.  Interval placement of a right internal jugular central line with its tip  in the mid superior vena cava.  The endotracheal tube has its tip  approximately 5.5 cm above the carina unchanged.  A nasogastric tube is seen  coursing below the diaphragm with the tip not identified.  Patchy and linear  opacity at the right base is stable suggestive of patchy and subsegmental  atelectasis.  Probable small layering right effusion.  The lungs are otherwise  clear without evidence of pulmonary edema or pneumothorax.  Overall cardiac  and mediastinal contours are stable given differences in positioning.   \")]"
      ]
     },
     "execution_count": 22,
     "metadata": {},
     "output_type": "execute_result"
    }
   ],
   "source": [
    "notes.take(3)"
   ]
  },
  {
   "cell_type": "code",
   "execution_count": 23,
   "metadata": {},
   "outputs": [],
   "source": [
    "from pyspark.ml.feature import HashingTF, IDF, Tokenizer"
   ]
  },
  {
   "cell_type": "code",
   "execution_count": 24,
   "metadata": {},
   "outputs": [],
   "source": [
    "tokenizer = Tokenizer(inputCol=\"TEXT\", outputCol=\"words\")"
   ]
  },
  {
   "cell_type": "code",
   "execution_count": 25,
   "metadata": {},
   "outputs": [],
   "source": [
    "wordsData = tokenizer.transform(notes)"
   ]
  },
  {
   "cell_type": "code",
   "execution_count": 26,
   "metadata": {},
   "outputs": [
    {
     "name": "stdout",
     "output_type": "stream",
     "text": [
      "+-------+--------------------+--------------------+\n",
      "|HADM_ID|                TEXT|               words|\n",
      "+-------+--------------------+--------------------+\n",
      "| 100140|MICU/SICU NURSING...|[micu/sicu, nursi...|\n",
      "| 100227|[**2160-12-7**] 1...|[[**2160-12-7**],...|\n",
      "| 100263|[**2102-4-21**] 7...|[[**2102-4-21**],...|\n",
      "| 100553|[**2146-6-16**] 2...|[[**2146-6-16**],...|\n",
      "| 100704|Neonatology Atten...|[neonatology, att...|\n",
      "| 100735|Neonatology Note ...|[neonatology, not...|\n",
      "| 101272|[**2177-1-12**] 3...|[[**2177-1-12**],...|\n",
      "| 102113|Nursing Admission...|[nursing, admissi...|\n",
      "| 102684|ADMIT NOTE   Pt i...|[admit, note, , ,...|\n",
      "| 103432|Admission Note  P...|[admission, note,...|\n",
      "+-------+--------------------+--------------------+\n",
      "only showing top 10 rows\n",
      "\n"
     ]
    }
   ],
   "source": [
    "wordsData.show(10)"
   ]
  },
  {
   "cell_type": "code",
   "execution_count": 27,
   "metadata": {},
   "outputs": [
    {
     "name": "stdout",
     "output_type": "stream",
     "text": [
      "+------------------------------------------------------------------------------------------------------------------------------------------------------------------------------------------------------------------------------------------------------------------------------------------------------------------------------------------------------------------------------------------------------------------------------------------------------------------------------------------------------------------------------------------------------------------------------------------------------------------------------------------------------------------------------------------------------------------------------------------------------------------------------------------------------------------------------------------------------------------------------------------------------------------------------------------------------------------------------------------------------------------------------------------------------------------------------------------------------------------------------------------------------------------------------------------------------------------------------------------------------------------------------------------------------------------------------------------------------------------------------------------------------------------------------------------------------------------------------------------------------------------------------------------------------------------------------------------------------------------------------------------------------------------------------------------------------------------------------------------------------------------------------------------------------------------------------------------------------------------------------------------------------------------------------------------------------------------------------------------------------------------------------------------------------------------------------------------------------------------------------------------------------------------------------------------------------------------------------------------------------------------------------------------------------------------+\n",
      "|features                                                                                                                                                                                                                                                                                                                                                                                                                                                                                                                                                                                                                                                                                                                                                                                                                                                                                                                                                                                                                                                                                                                                                                                                                                                                                                                                                                                                                                                                                                                                                                                                                                                                                                                                                                                                                                                                                                                                                                                                                                                                                                                                                                                                                                                                                                          |\n",
      "+------------------------------------------------------------------------------------------------------------------------------------------------------------------------------------------------------------------------------------------------------------------------------------------------------------------------------------------------------------------------------------------------------------------------------------------------------------------------------------------------------------------------------------------------------------------------------------------------------------------------------------------------------------------------------------------------------------------------------------------------------------------------------------------------------------------------------------------------------------------------------------------------------------------------------------------------------------------------------------------------------------------------------------------------------------------------------------------------------------------------------------------------------------------------------------------------------------------------------------------------------------------------------------------------------------------------------------------------------------------------------------------------------------------------------------------------------------------------------------------------------------------------------------------------------------------------------------------------------------------------------------------------------------------------------------------------------------------------------------------------------------------------------------------------------------------------------------------------------------------------------------------------------------------------------------------------------------------------------------------------------------------------------------------------------------------------------------------------------------------------------------------------------------------------------------------------------------------------------------------------------------------------------------------------------------------+\n",
      "|(100,[0,1,2,3,4,5,6,7,8,9,10,11,12,13,14,15,16,17,18,19,20,21,22,23,24,25,26,27,28,29,30,31,33,34,35,36,37,38,39,40,41,42,43,44,45,46,47,48,49,50,51,52,53,54,55,56,57,58,59,60,61,62,63,64,65,66,67,68,69,70,71,72,73,74,75,76,77,78,79,80,81,82,83,84,85,86,87,88,89,90,91,92,93,94,95,96,97,98,99],[0.11690458262680456,0.3688500713733548,0.676674036869257,0.05069216421977224,0.37823170935963757,0.18546656508389178,0.3356764427614876,0.1782302724321465,0.32170029043514453,0.8166503069135993,0.09664280084157138,0.1571031903454353,0.5090822500272716,0.14289622847176398,0.5845391463093333,0.4739167716612106,0.13389453102666563,0.041984558510510125,0.15212245053185125,0.5425724330550766,1.0668273923837661,0.7359103420490225,0.8116074154378413,0.05895830903644356,0.5434065535808653,0.42206495196809146,0.8679085969662215,1.275221790618624,0.24033410752990872,0.13759217041956856,0.2826208966987507,0.374813633915143,0.03166604087891447,0.37322430477804686,0.34319434549564726,0.051669015480062905,0.988774623410562,0.17781727302591088,0.36129102585784645,0.16141064232104618,1.682597058552808,0.13377920773744534,0.18786545430876805,0.3948721013693745,0.15680118260063686,0.15089812421792642,0.9506593800503957,0.10112262990768929,0.16258097417091252,0.1275129301771397,0.25916992286916335,0.45490725198528736,0.06081826146972456,0.37326786224837744,0.23735973019029424,0.22453145448435197,0.3971860235086285,0.4555243422340591,0.3594717807498137,0.08194856589387332,0.35592437887489736,0.11381020916773517,0.2022497136476062,0.10256428413390235,0.7752873600562612,0.9306117879357769,0.36927544254698225,0.032913359317230675,0.26914729640094875,0.5789514478910742,0.5035989444585692,0.10670947759932244,0.13173972073902368,0.12007097926600294,0.14544431562357302,0.17597904785717997,0.2774240395563775,0.2776981583839414,0.6481592183878143,0.3609790661004972,0.12514103679210187,0.2851426534499973,0.09677141206335976,0.7906857152474396,0.6396773090128136,0.34769139686888867,0.20549705235165092,0.8887977287777988,0.2382459496039941,1.4773303252911514,0.7966906578082656,0.40387670901548833,0.6498236021340951,0.5384151440984687,0.20242161550711857,0.7784590717580354,0.6077222449408873,0.23937007141344752,0.217426541877275])|\n",
      "|(100,[0,1,2,3,4,5,6,7,9,10,11,12,14,15,16,17,18,20,21,22,23,25,26,27,28,29,30,31,32,33,34,35,36,37,38,39,40,41,43,44,45,46,47,48,49,50,51,52,53,54,55,56,57,59,60,61,62,63,64,65,66,67,68,69,70,71,72,73,74,75,76,77,78,81,82,83,84,85,86,87,88,90,91,93,95,96,97,99],[0.23380916525360912,0.2213100428240129,0.5413392294954056,0.2534608210988612,0.6303861822660627,0.18546656508389178,0.1678382213807438,0.1782302724321465,0.11666432955908561,0.314089102735107,0.1571031903454353,0.16969408334242386,0.14613478657733334,0.1053148381469357,0.6694726551333281,0.20992279255255064,0.12676870877654273,0.3556091307945887,0.07359103420490225,0.3478317494733606,0.10317704081377622,0.10551623799202287,0.28930286565540714,0.141691310068736,0.24033410752990872,0.20638825562935284,0.07065522417468767,0.374813633915143,0.22364247626011494,0.005277673479819079,0.12440810159268229,0.2287962303304315,0.043719936175437846,0.42376055289024084,0.17781727302591088,0.6322592952512313,0.040352660580261546,0.3365194117105616,0.12524363620584536,0.5528209419171243,0.07840059130031843,0.1005987494786176,0.47532969002519787,0.050561314953844645,0.08129048708545626,0.09563469763285476,0.25916992286916335,0.12997350056722495,0.024327304587889825,0.7465357244967549,0.15823982012686283,0.22453145448435197,0.4766232282103542,0.17973589037490684,0.023413875969678092,0.35592437887489736,0.11381020916773517,0.16179977091808495,0.2051285682678047,0.3876436800281306,0.13294454113368243,0.5539131638204734,0.032913359317230675,0.5382945928018975,0.1929838159636914,0.6714652592780923,0.37427951098269807,0.10539177659121894,0.08576498519000209,0.3636107890589325,0.06599214294644248,0.13871201977818876,0.1388490791919707,0.22942523411885343,0.14257132672499864,0.05806284723801586,0.15813714304948792,0.4797579817596102,0.2607685476516665,0.10274852617582546,0.4443988643888994,0.18466629066139392,0.1327817763013776,0.389894161280457,0.20242161550711857,0.4670754430548213,0.27009877552928324,0.17789444335413407])                                                                                                                                                                                                                                          |\n",
      "|(100,[0,1,2,3,4,5,6,7,8,9,10,11,12,13,14,15,16,17,18,19,20,21,22,23,24,25,26,27,28,29,30,31,33,34,35,36,37,38,39,40,41,42,43,44,45,46,47,48,49,50,51,52,53,54,55,56,57,58,59,60,61,62,63,64,65,66,67,68,69,70,71,72,73,74,75,76,77,78,79,80,81,82,83,84,85,86,87,88,89,90,91,92,93,94,95,96,97,98,99],[0.7014274957608273,0.5163900999226967,0.5413392294954056,0.4055373137581779,1.1346951280789128,0.18546656508389178,0.6713528855229752,0.356460544864293,0.21446686029009634,0.8166503069135993,1.0147494088364994,0.3142063806908706,0.16969408334242386,1.1431698277741118,0.5845391463093333,0.15797225722040353,0.9372617171866594,0.2519073510630607,0.3803061263296282,0.93012417095156,0.3556091307945887,0.5151372394343158,0.2318878329822404,0.25057281340488513,0.5434065535808653,0.8441299039361829,0.14465143282770357,0.283382620137472,0.6008352688247718,0.48157259646848993,0.2826208966987507,1.0708960969004087,0.04222138783855263,0.37322430477804686,0.457592460660863,0.0635926344370005,0.988774623410562,0.9906962354300749,0.18064551292892322,0.0864699869577033,0.841298529276404,1.4046816812431762,0.3381578177557825,0.3158976810954996,0.3136023652012737,0.28502979018941654,0.6337729200335972,0.27808723224614557,0.7316143837691064,0.19126939526570952,0.7775097686074901,0.45490725198528736,0.07298191376366947,0.2799508966862831,0.23735973019029424,0.32075922069193136,0.794372047017257,0.7592072370567651,0.3594717807498137,0.09365550387871237,0.7118487577497947,0.39833573208707307,0.5258492554837761,0.7179499889373164,0.5814655200421959,1.4623899524705066,0.36927544254698225,0.10696841778099969,1.7494574266061669,0.7076073252002019,0.16786631481952308,0.8186368878515183,0.21078355318243788,0.3773659348360092,0.727221578117865,0.13198428589288497,0.41613605933456627,0.2776981583839414,0.32407960919390716,1.0829371983014915,0.3754231103763056,0.522761531324995,0.2903142361900793,0.9488228582969276,0.9595159635192204,0.34769139686888867,0.9247367355824291,0.35551909151111954,0.3573689244059911,0.5539988719841817,0.5311271052055104,0.48465205081858603,0.389894161280457,0.6460981729181625,0.13494774367141238,2.0239935865708922,0.20257408164696245,0.47874014282689503,0.17789444335413407])                           |\n",
      "|(100,[0,1,2,3,4,5,6,7,8,10,11,13,15,17,18,19,20,21,22,23,24,25,27,28,29,30,31,33,36,37,38,39,40,41,42,43,44,45,46,47,48,49,50,52,53,54,55,56,57,58,60,61,62,63,64,66,67,68,69,70,72,73,74,75,76,77,78,79,80,81,82,83,84,85,86,87,88,89,91,93,94,95,97,98,99],[0.9352366610144365,0.2213100428240129,0.4060044221215542,0.10138432843954448,0.25215447290642506,0.37093313016778356,0.6713528855229752,0.1782302724321465,0.32170029043514453,0.5073747044182497,0.1571031903454353,0.14289622847176398,0.1053148381469357,0.08396911702102025,0.05070748351061709,0.8526138233722632,0.17780456539729436,0.294364136819609,0.4637756659644808,0.10317704081377622,0.13585163839521633,0.9496461419282058,0.283382620137472,0.24033410752990872,0.4127765112587057,0.35327612087343835,0.26772402422510216,0.007036897973092105,0.011923618956937594,0.8475211057804817,0.27942714332643137,0.09032275646446161,0.005764665797180221,0.1682597058552808,0.13377920773744534,0.1001949089646763,0.1579488405477498,0.1097608278204458,0.01676645824643627,0.6337729200335972,0.17696460233845626,0.16258097417091252,0.07438254260333149,0.12997350056722495,0.024327304587889825,0.09331696556209436,0.3955995503171571,0.16037961034596568,0.1588744094034514,0.15184144741135303,0.09365550387871237,0.8304902173747606,0.25607297062740414,0.4044994272952124,0.10256428413390235,0.9306117879357769,0.18463772127349112,0.09874007795169203,0.40372094460142316,0.32163969327281905,0.40454040761534177,0.026347944147804735,0.22298896149400543,0.6544994203060785,0.15398166687503248,0.06935600988909438,0.4165472375759121,0.16203980459695358,0.1804895330502486,0.20856839465350313,0.5702853068999946,0.13547997688870367,0.15813714304948792,0.1599193272532034,0.08692284921722217,0.20549705235165092,0.08887977287777989,0.2382459496039941,0.1327817763013776,0.129964720426819,0.32304908645908126,0.06747387183570619,0.13504938776464162,0.23937007141344752,0.03953209852314091])                                                                                                                                                                                                                                                                                                              |\n",
      "|(100,[1,2,3,4,5,6,7,8,9,10,11,12,13,14,15,16,17,18,20,21,22,23,24,25,26,27,28,29,31,32,33,34,35,36,37,38,39,40,41,42,43,44,45,46,47,48,49,50,51,52,53,54,55,56,57,58,59,60,61,62,63,65,66,68,69,70,71,72,73,74,75,76,77,79,80,81,82,83,84,85,86,87,88,89,90,91,92,93,94,95,96,97,98,99],[0.14754002854934192,0.2706696147477028,0.15207649265931672,0.25215447290642506,0.37093313016778356,0.839191106903719,0.1782302724321465,0.4289337205801927,0.11666432955908561,0.07248210063117853,0.052367730115145096,0.16969408334242386,0.28579245694352795,0.14613478657733334,0.13164354768366962,0.26778906205333125,0.08396911702102025,0.05070748351061709,0.7112182615891774,0.294364136819609,0.1159439164911202,0.04421873177733267,0.407554915185649,0.10551623799202287,0.14465143282770357,0.425073930206208,0.6008352688247718,0.6879608520978429,0.10708960969004086,0.22364247626011494,0.02638836739909539,0.8708567111487759,0.2287962303304315,0.015898158609250125,0.1412535176300803,0.025402467575130126,0.2709682693933848,0.005764665797180221,0.1682597058552808,0.200668811606168,0.1377679998264299,0.0789744202738749,0.06272047304025474,0.2011974989572352,0.1584432300083993,0.20224525981537858,0.48774292251273754,0.08500862011809313,0.25916992286916335,0.19496025085083743,0.06081826146972456,0.09331696556209436,0.07911991006343141,0.12830368827677255,0.0794372047017257,0.30368289482270605,0.3594717807498137,0.03512081395451714,0.11864145962496579,0.056905104583867584,0.16179977091808495,0.3876436800281306,1.1965008702031419,0.032913359317230675,0.26914729640094875,0.25731175461825523,0.33573262963904615,0.022297502781947972,0.013173972073902368,0.13722397630400335,0.14544431562357302,0.021997380982147496,0.2774240395563775,0.16203980459695358,0.27073429957537287,0.06257051839605093,0.4277139801749959,0.038708564825343905,0.15813714304948792,0.4797579817596102,0.17384569843444433,0.5137426308791273,0.2666393186333397,0.2382459496039941,0.36933258132278785,0.6639088815068881,0.16155068360619534,0.519858881707276,0.32304908645908126,0.20242161550711857,0.7784590717580354,0.4051481632939249,0.11968503570672376,0.3360228374466977])                                                                                                |\n",
      "|(100,[0,1,2,3,5,6,7,8,9,10,11,12,13,14,15,16,17,18,19,20,21,22,23,24,25,26,27,28,29,30,33,34,35,36,37,39,40,41,42,43,44,45,46,47,48,49,50,51,52,53,54,55,56,57,58,59,60,61,62,63,64,65,66,67,68,70,71,72,73,74,75,76,77,78,79,81,82,83,84,85,86,87,88,89,90,91,92,93,94,95,97,98,99],[0.11690458262680456,0.14754002854934192,0.2706696147477028,0.05069216421977224,0.7418662603355671,0.1678382213807438,0.1782302724321465,0.10723343014504817,0.9333146364726849,0.04832140042078569,0.576045031266596,0.3393881666848477,0.14289622847176398,0.14613478657733334,0.2106296762938714,0.26778906205333125,0.12595367553153036,0.10141496702123418,0.07751034757929666,0.17780456539729436,0.1471820684098045,0.1159439164911202,0.04421873177733267,0.9509614687665143,0.21103247598404573,0.5786057313108143,0.425073930206208,0.24033410752990872,0.2751843408391371,0.07065522417468767,0.02286991841254934,0.49763240637072914,0.2287962303304315,0.023847237913875188,0.1412535176300803,0.09032275646446161,0.017293997391540663,0.6730388234211232,0.33444801934361335,0.03757309086175361,0.0789744202738749,0.07840059130031843,0.1676645824643627,0.3168864600167986,0.10112262990768929,0.32516194834182505,0.07438254260333149,0.5183398457383267,0.06498675028361248,0.04865460917577965,0.18663393112418872,0.07911991006343141,0.09622776620757942,0.1588744094034514,0.4555243422340591,0.3594717807498137,0.09365550387871237,0.11864145962496579,0.028452552291933792,0.08089988545904248,0.10256428413390235,0.5814655200421959,0.5317781645347297,0.18463772127349112,0.04114169914653834,0.25731175461825523,0.16786631481952308,0.035038932943061096,0.05269588829560947,0.13722397630400335,0.14544431562357302,0.04399476196429499,0.06935600988909438,0.5553963167678828,0.32407960919390716,0.06257051839605093,0.047523775574999545,0.019354282412671953,0.31627428609897584,0.9595159635192204,0.08692284921722217,0.10274852617582546,0.3999589779500095,0.5956148740099853,0.18466629066139392,0.1327817763013776,0.16155068360619534,0.519858881707276,0.32304908645908126,0.33736935917853095,0.4726728571762457,0.11968503570672376,0.15812839409256363])                                                                                                                     |\n",
      "|(100,[0,1,2,3,4,5,6,7,8,9,10,11,12,13,14,15,17,18,19,20,21,22,23,24,26,28,29,30,31,32,33,34,35,36,37,38,39,40,41,42,43,44,45,46,47,48,49,50,51,52,53,54,55,56,57,58,59,60,61,62,63,64,65,66,68,69,70,71,72,73,74,75,76,77,78,79,80,81,82,83,84,85,86,87,88,89,90,91,92,93,94,95,96,97,99],[0.5845229131340228,0.4426200856480258,0.5413392294954056,0.30415298531863344,0.25215447290642506,0.37093313016778356,0.1678382213807438,0.712921089728586,0.10723343014504817,0.3499929886772568,0.48321400420785693,0.41894184092116077,1.187858583396967,0.14289622847176398,0.7306739328866667,0.2369583858306053,0.29389190957357086,0.25353741755308545,0.3875517378964833,0.7112182615891774,0.22077310261470673,0.2318878329822404,0.10317704081377622,0.407554915185649,0.43395429848311073,1.0815034838845892,0.34398042604892143,0.14131044834937534,0.26772402422510216,0.6709274287803448,0.0404621633452796,1.1196729143341406,0.2287962303304315,0.05564355513237544,0.1412535176300803,0.27942714332643137,0.18064551292892322,0.023058663188720883,0.1682597058552808,0.13377920773744534,0.28806036327344436,0.1579488405477498,0.1097608278204458,0.21796395720367148,0.3168864600167986,0.17696460233845626,0.8129048708545626,0.14876508520666298,0.5183398457383267,0.12997350056722495,0.07298191376366947,0.7465357244967549,0.31647964025372566,0.09622776620757942,0.3971860235086285,0.9110486844681182,1.078415342249441,0.05853468992419523,0.8304902173747606,0.5690510458386758,0.2022497136476062,0.4102571365356094,0.1938218400140653,0.26588908226736485,0.04937003897584601,0.5382945928018975,0.45029557058194664,0.33573262963904615,0.6227373991244041,0.18443560903463316,0.12007097926600294,0.07272215781178651,0.21997380982147496,0.554848079112755,1.1107926335357656,0.32407960919390716,0.3609790661004972,0.2919957525149044,0.23761887787499772,0.17418854171404757,0.31627428609897584,0.4797579817596102,0.17384569843444433,0.5137426308791273,0.6665982965833491,0.11912297480199704,0.5539988719841817,0.2655635526027552,0.40387670901548833,0.259929440853638,0.10768302881969374,0.20242161550711857,1.2455345148128567,0.5401975510585665,0.09883024630785227])                                                                                               |\n",
      "|(100,[0,1,2,3,4,5,6,7,8,9,10,11,12,13,14,15,16,17,18,19,20,21,22,23,24,25,26,27,28,29,30,31,32,33,34,35,36,37,38,39,40,41,42,43,44,45,46,47,48,49,50,51,52,53,54,55,56,57,58,59,60,61,62,63,64,65,66,67,68,69,70,71,72,73,74,75,76,77,78,79,80,81,82,83,84,85,86,87,88,89,90,91,92,93,94,95,96,97,98,99],[0.8183320783876319,0.8852401712960516,1.0826784589908112,0.20276865687908896,0.6303861822660627,0.9273328254194589,0.3356764427614876,1.2476119070250256,1.2868011617405781,1.6333006138271986,0.24160700210392846,0.7855159517271765,0.8484704167121193,0.7144811423588199,0.876808719464,0.2896158049040732,0.5355781241066625,0.29389190957357086,0.2281836757977769,0.3875517378964833,2.1336547847675322,0.6623193078441202,0.6956634989467212,0.3095311224413287,1.3585163839521632,0.73861366594416,0.8679085969662215,1.275221790618624,0.48066821505981744,1.0319412781467643,0.5652417933975014,0.26772402422510216,0.6709274287803448,0.04925828581164473,0.49763240637072914,0.11439811516521575,0.0755162533939381,0.5650140705203212,0.203219740601041,0.7225820517156929,0.034587994783081326,1.0095582351316847,0.5351168309497814,0.45087709034104334,0.47384652164324936,0.25088189216101897,0.18443104071079897,1.584432300083993,0.37920986215383484,0.4064524354272813,0.22314762780999445,1.2958496143458167,1.1697615051050245,0.07298191376366947,0.2799508966862831,0.15823982012686283,0.705670285522249,0.794372047017257,1.2147315792908242,1.2581512326243478,0.10536244186355141,1.3050560558746238,0.2845255229193379,0.3235995418361699,0.5128214206695118,2.3258620801687835,1.3294454113368244,0.5539131638204734,0.09874007795169203,0.6728682410023719,0.8362632025093295,3.5251926112099845,0.18952877364655776,0.250305469404145,0.20583596445600502,1.2362766828003706,0.17597904785717997,0.41613605933456627,0.2776981583839414,0.6481592183878143,0.5414685991507457,0.08342735786140125,0.8079041847749923,0.11612569447603172,2.372057145742319,2.5587092360512544,0.521537095303333,0.41099410470330183,1.644275798238928,1.6677216472279586,2.0313291972753333,0.6639088815068881,0.6462027344247814,1.2996472042681901,0.7537812017378562,0.7422125901927681,1.8683017722192852,0.4051481632939249,0.9574802856537901,0.1383623448309932])               |\n",
      "|(100,[0,1,2,3,4,5,6,7,8,9,10,11,12,13,14,15,16,17,18,19,20,21,22,23,24,25,26,27,28,29,30,31,32,33,34,35,36,37,38,39,40,41,42,43,44,45,46,47,48,49,50,51,52,53,54,55,56,57,58,59,60,61,62,63,64,65,66,67,68,69,70,71,72,73,74,75,76,77,78,79,80,81,82,83,84,85,86,87,88,89,90,91,92,93,94,95,96,97,98,99],[1.5197595741484593,1.4754002854934192,3.9247094138416907,0.4055373137581779,1.386849600985338,2.781998476258377,1.846220435188182,1.069381634592879,2.5736023234811563,1.166643295590856,1.5946062138859278,0.576045031266596,2.375717166793934,1.1431698277741118,2.19202179866,0.5792316098081464,0.9372617171866594,0.8816757287207126,0.5070748351061709,0.15502069515859332,1.955850219370238,0.588728273639218,0.9275513319289616,0.23583323614577423,1.222664745556947,1.3717110938962973,1.1572114626216286,0.70845655034368,0.6008352688247718,0.756756937307627,0.7065522417468767,1.6063441453506129,0.8945699050404597,0.07036897973092104,0.9952648127414583,0.8007868061565102,0.10731257061243835,0.5650140705203212,0.5588542866528627,2.348391668076002,0.12105798174078464,1.5143373526975272,0.401337623212336,0.7890349080968259,2.290258187942372,0.3920029565015921,0.43592791440734296,1.109102610058795,0.4297711771076795,1.7071002287945816,0.265651937869041,2.073359382953307,0.8448277536869622,0.1094728706455042,2.2396071734902647,0.31647964025372566,0.7377462075914422,1.588744094034514,1.5184144741135301,1.9770947941239752,0.14048325581806856,0.47456583849986317,0.4267882843790069,0.4449493700247336,1.8461571144102424,3.101149440225045,0.9306117879357769,1.477101770187929,0.09051173812238436,1.4803101302052182,1.0935749571275848,1.1750642037366616,1.2964405188932606,0.3688712180692663,0.5660489022540138,1.0908323671767977,0.24197119080362245,1.664544237338265,1.5273398711116777,1.134278632178675,0.8122028987261186,1.001128294336815,1.1405706137999891,0.30966851860275124,0.6325485721979517,2.2388705815448477,0.521537095303333,1.0274852617582546,1.3776364796055882,0.3573689244059911,2.7699943599209087,0.5311271052055104,0.8077534180309767,0.779788322560914,1.3998793746560187,1.2145296930427114,0.4670754430548213,1.4855432654110579,2.154330642721028,0.2767246896619864])                                                |\n",
      "|(100,[0,1,2,3,4,5,6,7,8,9,10,11,12,13,14,15,16,17,18,19,20,21,22,23,24,25,26,27,28,29,30,31,32,33,34,35,36,37,38,39,40,41,42,43,44,45,46,47,48,49,50,51,52,53,54,55,56,57,58,59,60,61,62,63,64,65,66,67,68,69,70,71,72,73,74,75,76,77,78,79,80,81,82,83,84,85,86,87,88,89,90,91,92,93,94,95,96,97,98,99],[1.2859504088948501,0.8114701570213806,2.1653569179816223,0.4055373137581779,1.7650813103449754,0.5563996952516753,1.5105439924266943,1.2476119070250256,1.7157348823207708,1.166643295590856,1.3288385115716066,0.8902514119574666,1.0181645000545432,1.2860660562458759,2.045887012082667,0.5792316098081464,0.6694726551333281,0.5877838191471417,0.4563673515955538,0.8526138233722632,1.7780456539729437,1.471820684098045,1.855102663857923,0.38322900873688315,2.58118112950911,0.6330974279521372,1.4465143282770356,1.275221790618624,2.8840092903589047,0.6191647668880585,1.483759707668441,1.499254535660572,0.6709274287803448,0.08972044915692433,0.7464486095560937,1.4871754971478048,0.07949079304625062,0.988774623410562,0.43184194877721216,0.4516137823223081,0.20752796869848794,1.682597058552808,0.200668811606168,0.6637912718909804,0.789744202738749,0.37632283824152846,0.5532931221323969,1.7428755300923924,0.3033678897230679,0.4064524354272813,0.35066055798713414,1.8141894600841435,1.624668757090312,0.13380017523339405,0.37326786224837744,0.31647964025372566,1.2509609606985324,0.8738092517189827,1.5184144741135301,2.5163024652486956,0.16389713178774665,0.8304902173747606,0.48369338896287445,0.9303486827789884,1.8461571144102424,1.3567528800984572,1.1965008702031419,1.66173949146142,0.1316534372689227,0.8074418892028463,0.9005911411638933,1.6786631481952308,0.8218222453917966,0.5269588829560947,0.5145899111400125,0.8726658937414381,0.32996071473221245,1.3177641878927933,1.5273398711116777,1.6203980459695357,1.2634267313517402,0.6465620234258597,1.3306657160999873,0.2516056713647354,2.5301942887918067,1.4392739452788306,1.9123026827788876,1.4384793664615565,2.355313981261167,1.1912297480199705,0.7386651626455757,1.8589448682192864,1.0500794434402698,1.559576645121828,2.476709662852956,1.0121080775355928,0.6227672574064284,1.6881173470580202,0.47874014282689503,0.3360228374466977])                                |\n",
      "+------------------------------------------------------------------------------------------------------------------------------------------------------------------------------------------------------------------------------------------------------------------------------------------------------------------------------------------------------------------------------------------------------------------------------------------------------------------------------------------------------------------------------------------------------------------------------------------------------------------------------------------------------------------------------------------------------------------------------------------------------------------------------------------------------------------------------------------------------------------------------------------------------------------------------------------------------------------------------------------------------------------------------------------------------------------------------------------------------------------------------------------------------------------------------------------------------------------------------------------------------------------------------------------------------------------------------------------------------------------------------------------------------------------------------------------------------------------------------------------------------------------------------------------------------------------------------------------------------------------------------------------------------------------------------------------------------------------------------------------------------------------------------------------------------------------------------------------------------------------------------------------------------------------------------------------------------------------------------------------------------------------------------------------------------------------------------------------------------------------------------------------------------------------------------------------------------------------------------------------------------------------------------------------------------------------+\n",
      "only showing top 10 rows\n",
      "\n"
     ]
    }
   ],
   "source": [
    "hashingTF = HashingTF(inputCol=\"words\", outputCol=\"rawFeatures\", numFeatures=100)\n",
    "featurizedData = hashingTF.transform(wordsData)\n",
    "idf = IDF(inputCol=\"rawFeatures\", outputCol=\"features\")\n",
    "idfModel = idf.fit(featurizedData)\n",
    "rescaledData = idfModel.transform(featurizedData)\n",
    "\n",
    "rescaledData.select(\"features\").show(10,False)"
   ]
  },
  {
   "cell_type": "code",
   "execution_count": null,
   "metadata": {},
   "outputs": [],
   "source": [
    "# write code to merge other feature df with rescaledData on HADM_ID"
   ]
  },
  {
   "cell_type": "code",
   "execution_count": 28,
   "metadata": {},
   "outputs": [
    {
     "data": {
      "text/plain": [
       "DataFrame[HADM_ID: string, TEXT: string, words: array<string>, rawFeatures: vector, features: vector]"
      ]
     },
     "execution_count": 28,
     "metadata": {},
     "output_type": "execute_result"
    }
   ],
   "source": [
    "rescaledData"
   ]
  },
  {
   "cell_type": "code",
   "execution_count": 32,
   "metadata": {},
   "outputs": [
    {
     "data": {
      "text/plain": [
       "Name: org.apache.toree.interpreter.broker.BrokerException\n",
       "Message: Traceback (most recent call last):\n",
       "  File \"/tmp/kernel-PySpark-f89d6f48-edc4-4ab2-87f2-91825fca761c/pyspark_runner.py\", line 194, in <module>\n",
       "    eval(compiled_code)\n",
       "  File \"<string>\", line 1, in <module>\n",
       "TypeError: 'DataFrameWriter' object is not callable\n",
       "\n",
       "StackTrace: org.apache.toree.interpreter.broker.BrokerState$$anonfun$markFailure$1.apply(BrokerState.scala:163)\n",
       "org.apache.toree.interpreter.broker.BrokerState$$anonfun$markFailure$1.apply(BrokerState.scala:163)\n",
       "scala.Option.foreach(Option.scala:257)\n",
       "org.apache.toree.interpreter.broker.BrokerState.markFailure(BrokerState.scala:162)\n",
       "sun.reflect.NativeMethodAccessorImpl.invoke0(Native Method)\n",
       "sun.reflect.NativeMethodAccessorImpl.invoke(NativeMethodAccessorImpl.java:62)\n",
       "sun.reflect.DelegatingMethodAccessorImpl.invoke(DelegatingMethodAccessorImpl.java:43)\n",
       "java.lang.reflect.Method.invoke(Method.java:498)\n",
       "py4j.reflection.MethodInvoker.invoke(MethodInvoker.java:244)\n",
       "py4j.reflection.ReflectionEngine.invoke(ReflectionEngine.java:357)\n",
       "py4j.Gateway.invoke(Gateway.java:280)\n",
       "py4j.commands.AbstractCommand.invokeMethod(AbstractCommand.java:132)\n",
       "py4j.commands.CallCommand.execute(CallCommand.java:79)\n",
       "py4j.GatewayConnection.run(GatewayConnection.java:214)\n",
       "java.lang.Thread.run(Thread.java:748)"
      ]
     },
     "execution_count": 32,
     "metadata": {},
     "output_type": "execute_result"
    }
   ],
   "source": [
    "rescaledData.select(\"HADM_ID\", \"features\").write(\"nlp_features.csv\", header=True, mode=\"overwrite\")"
   ]
  },
  {
   "cell_type": "markdown",
   "metadata": {},
   "source": [
    "## Save feature df to hdfs "
   ]
  },
  {
   "cell_type": "code",
   "execution_count": 55,
   "metadata": {},
   "outputs": [],
   "source": [
    "features.write.csv(\"features_combined.csv\", header=True, mode=\"overwrite\")"
   ]
  },
  {
   "cell_type": "code",
   "execution_count": null,
   "metadata": {},
   "outputs": [],
   "source": []
  }
 ],
 "metadata": {
  "kernelspec": {
   "display_name": "Apache Toree - PySpark",
   "language": "python",
   "name": "apache_toree_pyspark"
  },
  "language_info": {
   "codemirror_mode": "text/x-ipython",
   "file_extension": ".py",
   "mimetype": "text/x-ipython",
   "name": "python",
   "pygments_lexer": "python",
   "version": "2.7.12\n"
  }
 },
 "nbformat": 4,
 "nbformat_minor": 2
}
