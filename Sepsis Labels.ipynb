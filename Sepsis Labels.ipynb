{
 "cells": [
  {
   "cell_type": "markdown",
   "metadata": {},
   "source": [
    "# Positive Cases\n",
    "\n",
    "## Explicit Coding of Sepsis using ICD9\n",
    "* This code extracts explicit sepsis using ICD-9 diagnosis codes\n",
    "* That is, the two codes 995.92 (severe sepsis) or 785.52 (septic shock)\n",
    "* These codes are extremely specific to sepsis, but have very low sensitivity\n",
    "* From Iwashyna et al. (vs. chart reviews): 100% PPV, 9.3% sens, 100% specificity"
   ]
  },
  {
   "cell_type": "code",
   "execution_count": 1,
   "metadata": {},
   "outputs": [
    {
     "data": {
      "text/plain": [
       "Waiting for a Spark session to start..."
      ]
     },
     "metadata": {},
     "output_type": "display_data"
    }
   ],
   "source": [
    "from pyspark.sql.functions import array, lit\n",
    "from pyspark.sql.types import *\n",
    "\n",
    "# load diagnoses_icd table\n",
    "diagnoses = spark.read.csv(\"s3://mimic-raw/mimic3/diagnoses_icd/DIAGNOSES_ICD.csv\", header = True)\n",
    "\n",
    "# intialize dataframe using ICD9 99592\n",
    "df1 = diagnoses.filter(\"ICD9_CODE like '\"+str(99592)+\"%'\")\n",
    "df2 = diagnoses.filter(\"ICD9_CODE like '\"+str(78552)+\"%'\") \n",
    "df = df1.union(df2) # concatenate to create our required df"
   ]
  },
  {
   "cell_type": "code",
   "execution_count": 6,
   "metadata": {
    "scrolled": true
   },
   "outputs": [
    {
     "name": "stdout",
     "output_type": "stream",
     "text": [
      "4085\n"
     ]
    }
   ],
   "source": [
    "sepsis_admissions = list(set(df.select('HADM_ID').collect()))\n",
    "print(len(sepsis_admissions)) # number of admissions with sepsis explicitly coded"
   ]
  },
  {
   "cell_type": "code",
   "execution_count": 12,
   "metadata": {},
   "outputs": [],
   "source": [
    "import pandas\n",
    "pandas.DataFrame({'HADM_ID':sepsis_admissions}).to_csv('sepsis_admissions.csv')"
   ]
  },
  {
   "cell_type": "markdown",
   "metadata": {},
   "source": [
    "# Negative Cases\n",
    "\n",
    "### ICD-9 codes for Angus criteria of sepsis\n",
    "\n",
    "*Angus et al, 2001. Epidemiology of severe sepsis in the United States*\n",
    "\n",
    "http://www.ncbi.nlm.nih.gov/pubmed/11445675\n",
    "\n",
    "Select all acute care hospitalizations with ICD-9-CM codes for both:\n",
    "* bacterial or fungal infectious process AND\n",
    "* diagnosis of acute organ dysfunction (Appendix 2)."
   ]
  },
  {
   "cell_type": "markdown",
   "metadata": {},
   "source": [
    "## Get ICD codes for infections"
   ]
  },
  {
   "cell_type": "code",
   "execution_count": 11,
   "metadata": {},
   "outputs": [],
   "source": [
    "# load diagnoses_icd table\n",
    "diagnoses = spark.read.csv(\"s3://mimic-raw/mimic3/diagnoses_icd/DIAGNOSES_ICD.csv\", header = True)"
   ]
  },
  {
   "cell_type": "code",
   "execution_count": 6,
   "metadata": {},
   "outputs": [],
   "source": [
    "## generate list of ICD9 codes for infection\n",
    "firstInfection = '001' \n",
    "infectionICD3 = ['002','003','004','005','008', # first 3 characters of ICD9_CODE\n",
    "   '009','010','011','012','013','014','015','016','017','018',\n",
    "   '020','021','022','023','024','025','026','027','030','031',\n",
    "   '032','033','034','035','036','037','038','039','040','041',\n",
    "   '090','091','092','093','094','095','096','097','098','100',\n",
    "   '101','102','103','104','110','111','112','114','115','116',\n",
    "  '117','118','320','322','324','325','420','421','451','461',\n",
    "  '462','463','464','465','481','482','485','486','494','510',\n",
    "   '513','540','541','542','566','567','590','597','601','614',\n",
    "   '615','616','681','682','683','686','730']\n",
    "infectionICD4 = ['5695','5720','5721','5750','5990','7110','7907','9966','9985','9993'] # first 4 characters of ICD9_CODE\n",
    "infectionICD5 = ['49121','56201','56203','56211','56213','56983'] # first 5 characters of ICD9_CODE"
   ]
  },
  {
   "cell_type": "code",
   "execution_count": 7,
   "metadata": {},
   "outputs": [],
   "source": [
    "from pyspark.sql.functions import array, lit\n",
    "from pyspark.sql.types import *"
   ]
  },
  {
   "cell_type": "code",
   "execution_count": 8,
   "metadata": {},
   "outputs": [],
   "source": [
    "# list of possible infection_codes excluding 001\n",
    "list_infections = infectionICD3 + infectionICD4 + infectionICD5"
   ]
  },
  {
   "cell_type": "code",
   "execution_count": 9,
   "metadata": {},
   "outputs": [],
   "source": [
    "# intialize dataframe using ICD9 001\n",
    "infection_df = diagnoses.filter(\"ICD9_CODE like '\"+str(firstInfection)+\"%'\")\n",
    "\n",
    "# concatenate dataframe for all other relevant ICD codes\n",
    "for x in list_infections: # iterate through the list of relevant ICD codes\n",
    "    temp_df = diagnoses.filter(\"ICD9_CODE like '\"+str(x)+\"%'\") # filter on given code\n",
    "    infection_df = infection_df.union(temp_df) # concatenate to create our required df"
   ]
  },
  {
   "cell_type": "code",
   "execution_count": 10,
   "metadata": {},
   "outputs": [
    {
     "name": "stdout",
     "output_type": "stream",
     "text": [
      "43110\n"
     ]
    }
   ],
   "source": [
    "print(infection_df.count()) # number of admissions with evidence of infection "
   ]
  },
  {
   "cell_type": "markdown",
   "metadata": {},
   "source": [
    "## Get ICD codes for Organ Dysfunction"
   ]
  },
  {
   "cell_type": "code",
   "execution_count": 13,
   "metadata": {},
   "outputs": [],
   "source": [
    "## generate list of ICD9 codes for infection\n",
    "firstDysfunction = '458' \n",
    "dysfunctionICD3 = ['293','570','584']\n",
    "dysfunctionICD4 = ['7855','3483','3481','2874','2875','2869','2866','5734'] # first 4 characters of ICD9_CODE\n",
    "dysfunctionICD5 = ['99592','78552'] # first 5 characters of ICD9_CODE\n",
    "\n",
    "list_dysfunction = dysfunctionICD3 + dysfunctionICD4 + dysfunctionICD5\n",
    "\n",
    "# intialize dataframe using ICD9 001\n",
    "dysfunction_df = diagnoses.filter(\"ICD9_CODE like '\"+str(firstDysfunction)+\"%'\")\n",
    "\n",
    "# concatenate dataframe for all other relevant ICD codes\n",
    "for x in list_dysfunction: # iterate through the list of relevant ICD codes\n",
    "    temp_df = diagnoses.filter(\"ICD9_CODE like '\"+str(x)+\"%'\") # filter on given code\n",
    "    dysfunction_df = dysfunction_df.union(temp_df) # concatenate to create our required df"
   ]
  },
  {
   "cell_type": "code",
   "execution_count": 15,
   "metadata": {},
   "outputs": [
    {
     "name": "stdout",
     "output_type": "stream",
     "text": [
      "37148\n"
     ]
    }
   ],
   "source": [
    "print(dysfunction_df.count()) # number of admissions with evidence of organ dysfunction"
   ]
  },
  {
   "cell_type": "markdown",
   "metadata": {},
   "source": [
    "## Identify Hospitalizations with both Infection & Organ Dysfunction"
   ]
  },
  {
   "cell_type": "code",
   "execution_count": 20,
   "metadata": {},
   "outputs": [],
   "source": [
    "infection_admissions = infection_df.select('HADM_ID').collect()\n",
    "dysfunction_admissions = dysfunction_df.select('HADM_ID').collect()"
   ]
  },
  {
   "cell_type": "code",
   "execution_count": 25,
   "metadata": {},
   "outputs": [],
   "source": [
    "sepsis_admissions = []\n",
    "\n",
    "# evaluate if admission has both infection and organ dysfunction\n",
    "for admission in infection_admissions:\n",
    "    if admission in dysfunction_admissions:\n",
    "        sepsis_admissions.append(admission)"
   ]
  },
  {
   "cell_type": "code",
   "execution_count": 1,
   "metadata": {},
   "outputs": [
    {
     "name": "stdout",
     "output_type": "stream",
     "text": [
      "12441\n",
      "58976\n"
     ]
    }
   ],
   "source": [
    "print(len(set(sepsis_admissions))) # number of admissions w/ severe sepsis\n",
    "print(len(set(diagnoses.select('HADM_ID').collect()))) # number of admissions\n",
    "\n",
    "not_sepsis_admissions = []\n",
    "for admission in set(diagnoses.select('HADM_ID').collect()):\n",
    "    if admission not in set(sepsis_admissions):\n",
    "        not_sepsis_admissions.append(admission)"
   ]
  },
  {
   "cell_type": "code",
   "execution_count": 2,
   "metadata": {},
   "outputs": [],
   "source": [
    "import pandas\n",
    "\n",
    "pandas.DataFrame({'HADM_ID':not_sepsis_admissions}).to_csv('not_sepsis_admissions.csv')"
   ]
  },
  {
   "cell_type": "markdown",
   "metadata": {},
   "source": [
    "# Combine sepsis and not sepsis examples for set of labeled admissions"
   ]
  },
  {
   "cell_type": "markdown",
   "metadata": {},
   "source": [
    "### Identify sepsis & non sepsis admissions"
   ]
  },
  {
   "cell_type": "code",
   "execution_count": 1,
   "metadata": {},
   "outputs": [],
   "source": [
    "import pandas\n",
    "\n",
    "# merge positive & negative cases and add labels\n",
    "sepsis = pandas.read_csv(\"sepsis_admissions.csv\")\n",
    "sepsis['label'] = 1\n",
    "not_sepsis = pandas.read_csv(\"not_sepsis_admissions.csv\")\n",
    "not_sepsis['label'] = 0\n",
    "df = pandas.concat([sepsis, not_sepsis])"
   ]
  },
  {
   "cell_type": "markdown",
   "metadata": {},
   "source": [
    "#### Retrieve relevant free text fields for NLP\n",
    "The DIAGNOSIS column provides a preliminary, free text diagnosis for the patient on hospital admission. The diagnosis is usually assigned by the admitting clinician and does not use a systematic ontology. As of MIMIC-III v1.0 there were 15,693 distinct diagnoses for 58,976 admissions. The diagnoses can be very informative (e.g. chronic kidney failure) or quite vague (e.g. weakness)."
   ]
  },
  {
   "cell_type": "code",
   "execution_count": 4,
   "metadata": {},
   "outputs": [
    {
     "data": {
      "text/plain": [
       "0    46535\n",
       "1     4085\n",
       "Name: label, dtype: int64"
      ]
     },
     "execution_count": 4,
     "metadata": {},
     "output_type": "execute_result"
    }
   ],
   "source": [
    "df.label.value_counts()"
   ]
  },
  {
   "cell_type": "code",
   "execution_count": 7,
   "metadata": {
    "scrolled": true
   },
   "outputs": [
    {
     "name": "stdout",
     "output_type": "stream",
     "text": [
      "['Unnamed: 0' 'HADM_ID' 'label']\n"
     ]
    }
   ],
   "source": [
    "print(df.columns.values)\n",
    "df.to_csv(\"sepsis_and_not_sepsis_admissions.csv\")"
   ]
  },
  {
   "cell_type": "code",
   "execution_count": null,
   "metadata": {},
   "outputs": [],
   "source": []
  }
 ],
 "metadata": {
  "kernelspec": {
   "display_name": "Apache Toree - PySpark",
   "language": "python",
   "name": "apache_toree_pyspark"
  },
  "language_info": {
   "codemirror_mode": "text/x-ipython",
   "file_extension": ".py",
   "mimetype": "text/x-ipython",
   "name": "python",
   "pygments_lexer": "python",
   "version": "2.7.12\n"
  }
 },
 "nbformat": 4,
 "nbformat_minor": 2
}
